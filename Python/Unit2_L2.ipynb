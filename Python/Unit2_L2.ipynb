{
  "nbformat": 4,
  "nbformat_minor": 0,
  "metadata": {
    "colab": {
      "name": "Unit2_L2.ipynb",
      "provenance": [],
      "authorship_tag": "ABX9TyPqW7+PpN+ds9Fthyclut5i",
      "include_colab_link": true
    },
    "kernelspec": {
      "name": "python3",
      "display_name": "Python 3"
    }
  },
  "cells": [
    {
      "cell_type": "markdown",
      "metadata": {
        "id": "view-in-github",
        "colab_type": "text"
      },
      "source": [
        "<a href=\"https://colab.research.google.com/github/bwilli2086/data_analytics/blob/main/Unit2_L2.ipynb\" target=\"_parent\"><img src=\"https://colab.research.google.com/assets/colab-badge.svg\" alt=\"Open In Colab\"/></a>"
      ]
    },
    {
      "cell_type": "code",
      "metadata": {
        "id": "3jrL-xA8pzRM"
      },
      "source": [
        "#Question 3\r\n",
        "greeting=\"Hello There!\"\r\n",
        "print(greeting)"
      ],
      "execution_count": null,
      "outputs": []
    },
    {
      "cell_type": "code",
      "metadata": {
        "colab": {
          "base_uri": "https://localhost:8080/"
        },
        "id": "51v58vM4l2nw",
        "outputId": "23ca8269-a7cd-4331-999a-5212b832ee20"
      },
      "source": [
        "#Question 4\r\n",
        "first=\"Bernard\"\r\n",
        "last=\"williams\"\r\n",
        "domain=\"@gmail.com\"\r\n",
        "print(first+last+domain)"
      ],
      "execution_count": 8,
      "outputs": [
        {
          "output_type": "stream",
          "text": [
            "Bernardwilliams@gmail.com\n"
          ],
          "name": "stdout"
        }
      ]
    },
    {
      "cell_type": "code",
      "metadata": {
        "colab": {
          "base_uri": "https://localhost:8080/"
        },
        "id": "xp1-aGnuqpcK",
        "outputId": "2db1224a-82ce-4cb6-acff-d9187edfb8ce"
      },
      "source": [
        "#Question 5\r\n",
        "name= \" Walt Disney\"\r\n",
        "print(name.upper())\r\n",
        "print(name.lower())\r\n"
      ],
      "execution_count": 10,
      "outputs": [
        {
          "output_type": "stream",
          "text": [
            " WALT DISNEY\n",
            " walt disney\n"
          ],
          "name": "stdout"
        }
      ]
    },
    {
      "cell_type": "code",
      "metadata": {
        "colab": {
          "base_uri": "https://localhost:8080/"
        },
        "id": "80x0JwXzrxyC",
        "outputId": "97ea1d7e-b746-4baa-bc55-c459391d0f64"
      },
      "source": [
        "#Question 6\r\n",
        "date=15\r\n",
        "print(\"Do you want to hang out on the\" + \" \" + str(date) + \"th\" + \" of the month?\")"
      ],
      "execution_count": 12,
      "outputs": [
        {
          "output_type": "stream",
          "text": [
            "Do you want to hang out on the 15th of the month?\n"
          ],
          "name": "stdout"
        }
      ]
    },
    {
      "cell_type": "code",
      "metadata": {
        "id": "-ccKWjMtnRlR"
      },
      "source": [
        ""
      ],
      "execution_count": null,
      "outputs": []
    }
  ]
}
