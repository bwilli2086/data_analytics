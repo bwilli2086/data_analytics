{
  "nbformat": 4,
  "nbformat_minor": 0,
  "metadata": {
    "colab": {
      "name": "MiniProject_unit2_solution.ipynb",
      "provenance": [],
      "collapsed_sections": [],
      "include_colab_link": true
    },
    "kernelspec": {
      "name": "python3",
      "display_name": "Python 3"
    }
  },
  "cells": [
    {
      "cell_type": "markdown",
      "metadata": {
        "id": "view-in-github",
        "colab_type": "text"
      },
      "source": [
        "<a href=\"https://colab.research.google.com/github/bwilli2086/data_analytics/blob/main/Python/MiniProject_unit2_solution.ipynb\" target=\"_parent\"><img src=\"https://colab.research.google.com/assets/colab-badge.svg\" alt=\"Open In Colab\"/></a>"
      ]
    },
    {
      "cell_type": "markdown",
      "metadata": {
        "id": "eyOFW9MkrE38"
      },
      "source": [
        "Ask the user for a number. Depending on whether the number is even or odd, print out an appropriate message to the user.  Hint: how does an even / odd number react differently when divided by 2?\r\n",
        "\r\n",
        "**Bonus:**\r\n",
        "* if the number is a multiple of 4, print out a different message.\r\n",
        "* Ask the user for two numbers: one number to check (call it num) and one number to divide by (check).  If check divides evenly into num, tell that to the user.  If not, print a different appropriate message.\r\n",
        "* Write a custom function for finding whether the number is even or odd and call it in your main program code.\r\n",
        "\r\n",
        "\r\n",
        "\r\n",
        "\r\n",
        "\r\n"
      ]
    },
    {
      "cell_type": "code",
      "metadata": {
        "id": "l3PpjTi8q3zC"
      },
      "source": [
        " #Part 1 - Alternative\r\n",
        "num=int(input(\"Enter number:\"))\r\n",
        "if(evenOdd(num)): \r\n",
        "   print (\"The number is even\", num)\r\n",
        "else:\r\n",
        "    print (\"The number is odd\", num)"
      ],
      "execution_count": null,
      "outputs": []
    },
    {
      "cell_type": "code",
      "metadata": {
        "id": "koF2vdvAYFJO"
      },
      "source": [
        " #Part 2\r\n",
        "  num=int(input(\"Enter number:\"))\r\n",
        "  if num % 4 == 0 and num % 2 == 0:\r\n",
        "    print (\"This is even and a multiple of 4\")\r\n",
        "  elif num % 2 == 0:\r\n",
        "   print (\"The number is even\", num)\r\n",
        "  else:\r\n",
        "    print (\"The number is odd\", num)"
      ],
      "execution_count": null,
      "outputs": []
    },
    {
      "cell_type": "code",
      "metadata": {
        "id": "FWePdLGCYIO0"
      },
      "source": [
        "#Part 3\r\n",
        "num = input('Please enter a number: ')\r\n",
        "check = input('Please enter a number to divide by: ')\r\n",
        "if int(num) % int(check) == 0:\r\n",
        "  print('The number you entered: ' + num + 'divides evenly by :' + check)\r\n",
        "else:\r\n",
        "  print('The number you entered: ' + num + ' does not divide evenly by :' + check)"
      ],
      "execution_count": null,
      "outputs": []
    },
    {
      "cell_type": "code",
      "metadata": {
        "id": "UOWGAd5kYLrF"
      },
      "source": [
        "#Part 4\r\n",
        "def evenOdd(n): \r\n",
        "  if(n==0): \r\n",
        "    return True\r\n",
        "  elif(n==1): \r\n",
        "    return False\r\n",
        "  else: \r\n",
        "    return evenOdd(n-2) \r\n",
        "num=int(input(\"Enter number:\"))\r\n",
        "if(evenOdd(num)): \r\n",
        "    print(num,\"num is even\") \r\n",
        "else: \r\n",
        "    print(num,\"num is odd\")"
      ],
      "execution_count": null,
      "outputs": []
    },
    {
      "cell_type": "markdown",
      "metadata": {
        "id": "j0aCubXkEui8"
      },
      "source": [
        "Make a two-player Rock-Paper-Scissors game. (Hint: Ask for player plays (using input), compare them, print out a message of congratulations to the winner, and ask if the players want to start a new game)​\r\n",
        "\r\n",
        "\r\n",
        "*  Remember the rules:​\r\n",
        "*  Rock beats scissors​\r\n",
        "*  Scissors beats paper​\r\n",
        "*  Paper beats rock\r\n",
        "\r\n",
        "\r\n",
        "\r\n",
        "\r\n",
        "\r\n",
        "\r\n"
      ]
    },
    {
      "cell_type": "code",
      "metadata": {
        "id": "ZwF9wr3eE7Fa"
      },
      "source": [
        "player = False\r\n",
        "while player == False:\r\n",
        "  player1 = input('P1 Please enter you selection (rock, paper, or scissors) ')\r\n",
        "  player2 = input('P2 Please enter you selection (rock, paper, or scissors) ')\r\n",
        "  def compare(choice1, choice2):\r\n",
        "    if choice1 == choice2:\r\n",
        "      return(\"It's a tie!\")\r\n",
        "    elif choice1 == 'rock':\r\n",
        "      if choice2 == 'scissors':\r\n",
        "        return(\"Rock beat \"+choice2+ \", Player 1 wins!\")\r\n",
        "      else:\r\n",
        "        return(\"Paper beats \" +choice1+ \", Player 2 wins!\")\r\n",
        "    elif choice1 == 'scissors':\r\n",
        "      if choice2 == 'paper':\r\n",
        "        return(\"Scissors beats \"+choice2+\", Player 1 wins!\")\r\n",
        "      else:\r\n",
        "        return(\"Rock beats \"+choice1+\", Player 2 wins!\")\r\n",
        "    elif choice1 == 'paper':\r\n",
        "      if choice2 == 'rock':\r\n",
        "        return(\"Paper beats \"+choice2+\", Player 1 wins!\")\r\n",
        "      else:\r\n",
        "        return(\"Scissors beats \"+choice1+\", Player 2 wins!\")\r\n",
        "    else:\r\n",
        "      return(\"Invalid input! You have to entered rock, paper or scissors, try again.\")\r\n",
        "        \r\n",
        "  print(compare(player1, player2))\r\n",
        "  repeat = input(\"Play again? (Y/N) \").lower()\r\n",
        "  while repeat not in ['y', 'n']:\r\n",
        "    repeat = input(\"That is not a valid choice. Please try again: \").lower()\r\n",
        "  if repeat == 'n' or repeat =='N':\r\n",
        "    break\r\n",
        "print ('Thanks for Playing!!!!!!!!')\r\n"
      ],
      "execution_count": null,
      "outputs": []
    }
  ]
}