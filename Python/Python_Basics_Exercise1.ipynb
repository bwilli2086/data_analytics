{
  "nbformat": 4,
  "nbformat_minor": 0,
  "metadata": {
    "colab": {
      "name": "Python_Basics_Exercise1.ipynb",
      "provenance": [],
      "collapsed_sections": [],
      "include_colab_link": true
    },
    "kernelspec": {
      "name": "python3",
      "display_name": "Python 3"
    }
  },
  "cells": [
    {
      "cell_type": "markdown",
      "metadata": {
        "id": "view-in-github",
        "colab_type": "text"
      },
      "source": [
        "<a href=\"https://colab.research.google.com/github/bwilli2086/data_analytics/blob/main/Python/Python_Basics_Exercise1.ipynb\" target=\"_parent\"><img src=\"https://colab.research.google.com/assets/colab-badge.svg\" alt=\"Open In Colab\"/></a>"
      ]
    },
    {
      "cell_type": "markdown",
      "metadata": {
        "id": "g3-tSKRt_mkM"
      },
      "source": [
        "**PYTHON EXERCISE FOR PRACTICE**"
      ]
    },
    {
      "cell_type": "markdown",
      "metadata": {
        "id": "bC_6Uz7DBqBH"
      },
      "source": [
        "**1: Given a two integer numbers return their product and  if the product is greater than 1000, then return their sum**\r\n",
        "\r\n",
        "number1 = 20\r\n",
        "\r\n",
        "number2 = 30"
      ]
    },
    {
      "cell_type": "code",
      "metadata": {
        "id": "HKa8yElOCEhb",
        "colab": {
          "base_uri": "https://localhost:8080/"
        },
        "outputId": "739444bc-b6e0-44ec-fb1f-6141fbce7267"
      },
      "source": [
        "number1 = 20\r\n",
        "number2 = 30\r\n",
        "product=number1*number2\r\n",
        "if product <=1000:\r\n",
        "  print (\"The product is: \",product)\r\n",
        "else:\r\n",
        "  sum=number1+number2\r\n",
        "  print(\"The sum is: \",sum)\r\n"
      ],
      "execution_count": null,
      "outputs": [
        {
          "output_type": "stream",
          "text": [
            "The product is:  600\n"
          ],
          "name": "stdout"
        }
      ]
    },
    {
      "cell_type": "markdown",
      "metadata": {
        "id": "gi4_I_PzCG8b"
      },
      "source": [
        "**2: Given a range of first 10 numbers, Iterate from start number to the end number and print the sum of the current number and previous number.**"
      ]
    },
    {
      "cell_type": "code",
      "metadata": {
        "id": "kEiCkup1CPI-",
        "colab": {
          "base_uri": "https://localhost:8080/"
        },
        "outputId": "f34c0b46-fea2-4e06-d758-24220146578b"
      },
      "source": [
        "numbers=range(10)\r\n",
        "start=0\r\n",
        "for answer in numbers:\r\n",
        "  print(\"Number is: \",answer)\r\n",
        "  sum =start+answer\r\n",
        "  print (\"Sum is: \",sum)\r\n",
        "  start=answer\r\n"
      ],
      "execution_count": null,
      "outputs": [
        {
          "output_type": "stream",
          "text": [
            "Number is:  0\n",
            "Sum is:  0\n",
            "Number is:  1\n",
            "Sum is:  1\n",
            "Number is:  2\n",
            "Sum is:  3\n",
            "Number is:  3\n",
            "Sum is:  5\n",
            "Number is:  4\n",
            "Sum is:  7\n",
            "Number is:  5\n",
            "Sum is:  9\n",
            "Number is:  6\n",
            "Sum is:  11\n",
            "Number is:  7\n",
            "Sum is:  13\n",
            "Number is:  8\n",
            "Sum is:  15\n",
            "Number is:  9\n",
            "Sum is:  17\n"
          ],
          "name": "stdout"
        }
      ]
    },
    {
      "cell_type": "markdown",
      "metadata": {
        "id": "TC9qS9y1CXub"
      },
      "source": [
        "**3: In the string \"pynative\", display only those characters which are present at an even index number.**"
      ]
    },
    {
      "cell_type": "code",
      "metadata": {
        "id": "TuKk3dabCsNB",
        "colab": {
          "base_uri": "https://localhost:8080/"
        },
        "outputId": "af867800-d745-417c-a37f-43d034f11d17"
      },
      "source": [
        "string=\"pynative\"\r\n",
        "for letter in even[0::2]:\r\n",
        "  print(letter)\r\n",
        "  \r\n",
        "  \r\n"
      ],
      "execution_count": null,
      "outputs": [
        {
          "output_type": "stream",
          "text": [
            "p\n",
            "n\n",
            "t\n",
            "v\n"
          ],
          "name": "stdout"
        }
      ]
    },
    {
      "cell_type": "markdown",
      "metadata": {
        "id": "I0P344TnCtM_"
      },
      "source": [
        "**4: In the string \"pynative\" remove characters from zero up to 5 and return a new string**"
      ]
    },
    {
      "cell_type": "code",
      "metadata": {
        "id": "Ydf43l5_DB3E",
        "colab": {
          "base_uri": "https://localhost:8080/"
        },
        "outputId": "ec4cfcb8-f1da-4e7b-800c-cd3978bf25cb"
      },
      "source": [
        "string=\"pynative\"\r\n",
        "for letter in string[5:]:\r\n",
        "  print(letter)"
      ],
      "execution_count": null,
      "outputs": [
        {
          "output_type": "stream",
          "text": [
            "i\n",
            "v\n",
            "e\n"
          ],
          "name": "stdout"
        }
      ]
    },
    {
      "cell_type": "markdown",
      "metadata": {
        "id": "5i7uTUBtDQDL"
      },
      "source": [
        "**5: Reverse numbers 121 and 125 and return true if it is the same as the original number.**"
      ]
    },
    {
      "cell_type": "code",
      "metadata": {
        "colab": {
          "base_uri": "https://localhost:8080/"
        },
        "id": "jpTt2Poejv54",
        "outputId": "8404940d-3594-4c41-dd08-1ea1d2ee2e93"
      },
      "source": [
        "number=121\r\n",
        "print(\"Original number\", number)\r\n",
        "originalNum = number\r\n",
        "reverseNum = 0\r\n",
        "while (number > 0):\r\n",
        "        reminder = number % 10\r\n",
        "        reverseNum = (reverseNum * 10) + reminder\r\n",
        "        number = number // 10\r\n",
        "if (originalNum == reverseNum):\r\n",
        "  print(\"The original and reverse number is the same\")\r\n",
        "else:\r\n",
        "  print(\"The original and reverse number is not the same\")\r\n",
        "\r\n",
        "number=125\r\n",
        "print(\"Original number\", number)\r\n",
        "originalNum = number\r\n",
        "reverseNum = 0\r\n",
        "while (number > 0):\r\n",
        "        reminder = number % 10\r\n",
        "        reverseNum = (reverseNum * 10) + reminder\r\n",
        "        number = number // 10\r\n",
        "if (originalNum == reverseNum):\r\n",
        "  print(\"The original and reverse number is the same\")\r\n",
        "else:\r\n",
        "  print(\"The original and reverse number is not the same\")"
      ],
      "execution_count": null,
      "outputs": [
        {
          "output_type": "stream",
          "text": [
            "Original number 121\n",
            "The original and reverse number is the same\n",
            "Original number 125\n",
            "The original and reverse number is not the same\n"
          ],
          "name": "stdout"
        }
      ]
    },
    {
      "cell_type": "markdown",
      "metadata": {
        "id": "cf2_0MYzDuxl"
      },
      "source": [
        "**6: Given two list of numbers create a new list such that new list should contain only odd numbers from the first list and even numbers from the second list.**\r\n",
        "\r\n",
        "1.  List 1  [10, 20, 23, 11, 17]\r\n",
        "2.  List 2  [13, 43, 24, 36, 12]\r\n",
        "\r\n",
        "\r\n",
        "\r\n",
        " \r\n"
      ]
    },
    {
      "cell_type": "code",
      "metadata": {
        "colab": {
          "base_uri": "https://localhost:8080/"
        },
        "id": "MJ9uyi90jRK9",
        "outputId": "ec89c55b-73e4-4ec0-f5e3-f066671d89f9"
      },
      "source": [
        "listOne = [10, 20, 23, 11, 17]\r\n",
        "listTwo = [13, 43, 24, 36, 12]\r\n",
        "listthree=[]\r\n",
        "for num in listOne:\r\n",
        "  if (num % 2 != 0):\r\n",
        "    listthree.append(num)\r\n",
        "for num in listTwo:\r\n",
        "  if (num % 2 == 0):\r\n",
        "    listthree.append(num)\r\n",
        "print (listthree)"
      ],
      "execution_count": null,
      "outputs": [
        {
          "output_type": "stream",
          "text": [
            "[23, 11, 17, 24, 36, 12]\n"
          ],
          "name": "stdout"
        }
      ]
    },
    {
      "cell_type": "markdown",
      "metadata": {
        "id": "z5GgC036ESdH"
      },
      "source": [
        "**7: Write a code to extract each digit from the integer 7536  in the reverse order**"
      ]
    },
    {
      "cell_type": "code",
      "metadata": {
        "id": "KA27ivt9EfVR",
        "colab": {
          "base_uri": "https://localhost:8080/"
        },
        "outputId": "070605e5-d1a0-4bbf-ee90-d2a9fcf4f332"
      },
      "source": [
        "num=7536\r\n",
        "reversed = int(str(num)[::-1])\r\n",
        "print(reversed)\r\n"
      ],
      "execution_count": 5,
      "outputs": [
        {
          "output_type": "stream",
          "text": [
            "6357\n"
          ],
          "name": "stdout"
        }
      ]
    },
    {
      "cell_type": "markdown",
      "metadata": {
        "id": "Ac2IVsHR_x3f"
      },
      "source": [
        "**8. What is the output of the following code?**"
      ]
    },
    {
      "cell_type": "code",
      "metadata": {
        "id": "dzuN79j2_mE_"
      },
      "source": [
        "sampleList = [\"Jon\", \"Kelly\", \"Jessa\"]\r\n",
        "sampleList.append(2,\"Scott\")\r\n",
        "print(sampleList)"
      ],
      "execution_count": null,
      "outputs": []
    },
    {
      "cell_type": "markdown",
      "metadata": {
        "id": "mqNHojQj_7Gu"
      },
      "source": [
        "1.   The program executed with errors\r\n",
        "\r\n",
        "\r\n",
        "\r\n"
      ]
    },
    {
      "cell_type": "markdown",
      "metadata": {
        "id": "hOzDvWv2Aqic"
      },
      "source": [
        "***9. What is the output of the following code?***"
      ]
    },
    {
      "cell_type": "code",
      "metadata": {
        "id": "GYNREZfOAw65"
      },
      "source": [
        "valueOne = 5 ** 2\r\n",
        "valueTwo = 5 ** 3\r\n",
        "\r\n",
        "print(valueOne)\r\n",
        "print(valueTwo)"
      ],
      "execution_count": null,
      "outputs": []
    },
    {
      "cell_type": "markdown",
      "metadata": {
        "id": "VGsfNQ_QA2HK"
      },
      "source": [
        "\r\n",
        "2. 25 \r\n",
        "   125\r\n",
        "\r\n",
        "\r\n",
        "\r\n",
        "\r\n",
        "\r\n",
        "\r\n",
        "\r\n",
        "\r\n"
      ]
    },
    {
      "cell_type": "markdown",
      "metadata": {
        "id": "GCgvAVj6sG1N"
      },
      "source": [
        "**10. Display the following data using string.format() method and as a message**\r\n",
        "* totalMoney = 1000\r\n",
        "* quantity =3\r\n",
        "* price = 450 \r\n",
        "\r\n",
        "\r\n",
        "\r\n",
        "\r\n"
      ]
    },
    {
      "cell_type": "code",
      "metadata": {
        "id": "dtXfJx31syUY"
      },
      "source": [
        "Message1=\"I have a total of ${totalmoney}\".format(totalmoney = 1000)\r\n",
        "Message2=\"I brought ${quantity}\".format(quantity =3)\r\n",
        "Message3=\"I paid ${price}\".format(price = 450)\r\n",
        "print(Message1)\r\n",
        "print(Message2)\r\n",
        "print(Message3)"
      ],
      "execution_count": null,
      "outputs": []
    },
    {
      "cell_type": "markdown",
      "metadata": {
        "id": "yxY9xGyLsywP"
      },
      "source": [
        "**11: Print First 10 natural numbers using while loop**"
      ]
    },
    {
      "cell_type": "code",
      "metadata": {
        "colab": {
          "base_uri": "https://localhost:8080/"
        },
        "id": "o0xZH-Aau3LX",
        "outputId": "e67ebf80-0ce6-42c2-e060-71ce50ae3626"
      },
      "source": [
        "i=1\r\n",
        "number=10\r\n",
        "while ( i <= number):\r\n",
        "    print (i, end = '  ')\r\n",
        "    i = i + 1"
      ],
      "execution_count": null,
      "outputs": [
        {
          "output_type": "stream",
          "text": [
            "1  2  3  4  5  6  7  8  9  10  "
          ],
          "name": "stdout"
        }
      ]
    },
    {
      "cell_type": "markdown",
      "metadata": {
        "id": "WhRDBtDutC4M"
      },
      "source": [
        ""
      ]
    },
    {
      "cell_type": "markdown",
      "metadata": {
        "id": "5MBJ7mAztE0p"
      },
      "source": [
        "**12.  Reverse the following list using for loop**\r\n",
        "\r\n",
        "list1 = [10, 20, 30, 40, 50]"
      ]
    },
    {
      "cell_type": "code",
      "metadata": {
        "id": "TdWqlpJXtUvG",
        "colab": {
          "base_uri": "https://localhost:8080/"
        },
        "outputId": "ac9ca512-ef60-4010-b998-32f5bb974b51"
      },
      "source": [
        "list1 = [10, 20, 30, 40, 50]\r\n",
        "list1.reverse()\r\n",
        "for reverselist in list1:\r\n",
        "  print(reverselist)\r\n",
        "\r\n"
      ],
      "execution_count": null,
      "outputs": [
        {
          "output_type": "stream",
          "text": [
            "50\n",
            "40\n",
            "30\n",
            "20\n",
            "10\n"
          ],
          "name": "stdout"
        }
      ]
    },
    {
      "cell_type": "markdown",
      "metadata": {
        "id": "LyQAuxbgtVTM"
      },
      "source": [
        "**13: Display a message “Done” after successful execution of for loop**"
      ]
    },
    {
      "cell_type": "code",
      "metadata": {
        "id": "K8M3XInHtebM",
        "colab": {
          "base_uri": "https://localhost:8080/"
        },
        "outputId": "c1b01a39-d4e7-4c04-922a-0143c6308ab0"
      },
      "source": [
        "list1 = [10, 20, 30, 40, 50]\r\n",
        "list1.reverse()\r\n",
        "for reverselist in list1:\r\n",
        "  print(reverselist)\r\n",
        "print(\"Done\")"
      ],
      "execution_count": null,
      "outputs": [
        {
          "output_type": "stream",
          "text": [
            "50\n",
            "40\n",
            "30\n",
            "20\n",
            "10\n",
            "Done\n"
          ],
          "name": "stdout"
        }
      ]
    },
    {
      "cell_type": "markdown",
      "metadata": {
        "id": "Uggz_8FotmMO"
      },
      "source": [
        "**14. Use a loop to display elements from the given list (my_list) which are present at even positions**\r\n",
        "my_list = [10, 20, 30, 40, 50, 60, 70, 80, 90, 100]"
      ]
    },
    {
      "cell_type": "code",
      "metadata": {
        "id": "XI42cUtJtxha",
        "colab": {
          "base_uri": "https://localhost:8080/"
        },
        "outputId": "3a51e1c3-f2e0-40bd-e726-8026c435d9c2"
      },
      "source": [
        "my_list = [10, 20, 30, 40, 50, 60, 70, 80, 90, 100]\r\n",
        "for mylist in my_list[0::2]:\r\n",
        "  print(mylist)\r\n",
        "\r\n"
      ],
      "execution_count": null,
      "outputs": [
        {
          "output_type": "stream",
          "text": [
            "10\n",
            "30\n",
            "50\n",
            "70\n",
            "90\n",
            "Done\n"
          ],
          "name": "stdout"
        }
      ]
    },
    {
      "cell_type": "markdown",
      "metadata": {
        "id": "usUBQQ0ouFgI"
      },
      "source": [
        "**15. Create a list of your favourite 5 fruits. Then**\r\n",
        "\r\n",
        "Add 2 new fruits to the list\r\n",
        "What's the length of your list now?\r\n",
        "Remove any one fruit from the list\r\n",
        "What's the new length of the list now?\r\n",
        "Could you sort the list? \r\n"
      ]
    },
    {
      "cell_type": "code",
      "metadata": {
        "id": "FyzB7ZnEyq0X",
        "colab": {
          "base_uri": "https://localhost:8080/"
        },
        "outputId": "abda27dd-f40a-4ed1-ae74-88f0cfd7c49b"
      },
      "source": [
        "fruits=[\"apple\",\"banana\",\"orange\",\"cherry\",\"blueberry\"]\r\n",
        "print(\"My favorite fruits are: \" ,fruits)\r\n",
        "print(\"I like a total of\", len(fruits))\r\n",
        "fruits.append(\"mango\")\r\n",
        "fruits.append(\"grapes\")\r\n",
        "print(\"I added 2 fruits to the list, so my favorite fruits are: \" ,fruits)\r\n",
        "print(\"I like a total of\", len(fruits))\r\n",
        "del fruits[0]\r\n",
        "print(\"I deleted 1 fruit from the list, so my favorite fruits are: \" ,fruits)\r\n",
        "print(\"I like a total of\", len(fruits))\r\n",
        "fruits.sort()\r\n",
        "print(\"My favorite fruits sorted are: \" ,fruits)\r\n",
        "print(\"I like a total of\", len(fruits))"
      ],
      "execution_count": null,
      "outputs": [
        {
          "output_type": "stream",
          "text": [
            "My favorite fruits are:  ['apple', 'banana', 'orange', 'cherry', 'blueberry']\n",
            "I like a total of 5\n",
            "I added 2 fruits to the list, so my favorite fruits are:  ['apple', 'banana', 'orange', 'cherry', 'blueberry', 'mango', 'grapes']\n",
            "I like a total of 7\n",
            "I deleted 1 fruit from the list, so my favorite fruits are:  ['banana', 'orange', 'cherry', 'blueberry', 'mango', 'grapes']\n",
            "I like a total of 6\n",
            "My favorite fruits sorted are:  ['banana', 'blueberry', 'cherry', 'grapes', 'mango', 'orange']\n",
            "I like a total of 6\n"
          ],
          "name": "stdout"
        }
      ]
    },
    {
      "cell_type": "markdown",
      "metadata": {
        "id": "YnjUxqA8yMHc"
      },
      "source": [
        ""
      ]
    }
  ]
}