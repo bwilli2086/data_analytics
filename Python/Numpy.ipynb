{
  "nbformat": 4,
  "nbformat_minor": 0,
  "metadata": {
    "colab": {
      "name": "Numpy.ipynb",
      "provenance": [],
      "authorship_tag": "ABX9TyPzjvayFrukKJOMUoTz+4pg",
      "include_colab_link": true
    },
    "kernelspec": {
      "name": "python3",
      "display_name": "Python 3"
    }
  },
  "cells": [
    {
      "cell_type": "markdown",
      "metadata": {
        "id": "view-in-github",
        "colab_type": "text"
      },
      "source": [
        "<a href=\"https://colab.research.google.com/github/bwilli2086/data_analytics/blob/main/Python/Numpy.ipynb\" target=\"_parent\"><img src=\"https://colab.research.google.com/assets/colab-badge.svg\" alt=\"Open In Colab\"/></a>"
      ]
    },
    {
      "cell_type": "code",
      "metadata": {
        "colab": {
          "base_uri": "https://localhost:8080/"
        },
        "id": "4yx_8YsLlEB1",
        "outputId": "30e30c43-6d13-477c-8cd0-0a8fa558295b"
      },
      "source": [
        "import numpy as np\r\n",
        "np_city=np.array(['NYC','LA','Houston','Miami'])\r\n",
        "#np_city.ndim\r\n",
        "#np_city.shape\r\n",
        "#np_city.size\r\n",
        "np_city.dtype\r\n",
        "\r\n"
      ],
      "execution_count": 5,
      "outputs": [
        {
          "output_type": "execute_result",
          "data": {
            "text/plain": [
              "dtype('<U7')"
            ]
          },
          "metadata": {
            "tags": []
          },
          "execution_count": 5
        }
      ]
    },
    {
      "cell_type": "code",
      "metadata": {
        "colab": {
          "base_uri": "https://localhost:8080/"
        },
        "id": "w67FNmedmVl6",
        "outputId": "daf15880-813e-4737-92f4-efa0d3a55417"
      },
      "source": [
        "import numpy as np\r\n",
        "np_city_state=np.array([['NYC','LA','Houston','Miami'],['NY','CA','TX','FL']])\r\n",
        "#np_city_state.ndim\r\n",
        "#np_city_state.shape\r\n",
        "#np_city_state.size\r\n",
        "#np_city_state.dtype\r\n"
      ],
      "execution_count": 10,
      "outputs": [
        {
          "output_type": "execute_result",
          "data": {
            "text/plain": [
              "8"
            ]
          },
          "metadata": {
            "tags": []
          },
          "execution_count": 10
        }
      ]
    },
    {
      "cell_type": "code",
      "metadata": {
        "colab": {
          "base_uri": "https://localhost:8080/"
        },
        "id": "8rZsEZJDnwfv",
        "outputId": "464edf31-6d8e-43d2-ec0d-4008db26c3c9"
      },
      "source": [
        "first_trail=[10,15,17,26]\r\n",
        "second_trail=[12,11,21,24]\r\n",
        "np_ftc=np.array(first_trail)\r\n",
        "np_stc=np.array(second_trail)\r\n",
        "np_ftc+np_stc"
      ],
      "execution_count": 11,
      "outputs": [
        {
          "output_type": "execute_result",
          "data": {
            "text/plain": [
              "array([22, 26, 38, 50])"
            ]
          },
          "metadata": {
            "tags": []
          },
          "execution_count": 11
        }
      ]
    },
    {
      "cell_type": "code",
      "metadata": {
        "colab": {
          "base_uri": "https://localhost:8080/"
        },
        "id": "cp543oWLqwZy",
        "outputId": "260a1db4-fc8a-4dc7-c482-cecba895a04a"
      },
      "source": [
        "cyclist_time=np.array([[10,15,17,26],[12,11,21,24]])\r\n",
        "ftc_time=cyclist_time[0]\r\n",
        "ftc_times=cyclist_time[0,0]\r\n",
        "stc_time=cyclist_time[1]\r\n",
        "stc_times=cyclist_time[1,0]\r\n",
        "print(ftc_time)\r\n",
        "print(ftc_times)\r\n",
        "print(stc_time)\r\n",
        "print(stc_times)\r\n",
        "\r\n",
        "\r\n"
      ],
      "execution_count": 16,
      "outputs": [
        {
          "output_type": "stream",
          "text": [
            "[10 15 17 26]\n",
            "10\n",
            "[12 11 21 24]\n",
            "12\n"
          ],
          "name": "stdout"
        }
      ]
    },
    {
      "cell_type": "code",
      "metadata": {
        "colab": {
          "base_uri": "https://localhost:8080/"
        },
        "id": "vD9X_diqt1lT",
        "outputId": "931f079e-77ea-4086-c5ca-ca2eb3322efc"
      },
      "source": [
        "test_score=np.array([[81,71,57,63],[54,61,87,45]])\r\n",
        "passing_score=test_score>60\r\n",
        "passing_score\r\n",
        "#test_score[passing_score]\r\n",
        "\r\n"
      ],
      "execution_count": 21,
      "outputs": [
        {
          "output_type": "stream",
          "text": [
            "[81 71 63 61 87]\n"
          ],
          "name": "stdout"
        }
      ]
    },
    {
      "cell_type": "code",
      "metadata": {
        "colab": {
          "base_uri": "https://localhost:8080/"
        },
        "id": "v5lx-mkgwmpU",
        "outputId": "9985d2fa-9c82-4c15-a78c-59e5c90542b9"
      },
      "source": [
        "NYC_Bor=np.array(['Manhattan','Queens','Brooklyn','Staten Island','Bronx'])\r\n",
        "#NYC_Bor\r\n",
        "bor_nyc=NYC_Bor\r\n",
        "bor_in_nyc=bor_nyc.view()\r\n",
        "bor_in_nyc\r\n",
        "#NYC_Bor is bor_in_nyc\r\n",
        "#len(bor_in_nyc)\r\n",
        "#bor_in_nyc[3]"
      ],
      "execution_count": 36,
      "outputs": [
        {
          "output_type": "execute_result",
          "data": {
            "text/plain": [
              "array(['Manhattan', 'Queens', 'Brooklyn', 'Staten Island', 'Bronx'],\n",
              "      dtype='<U13')"
            ]
          },
          "metadata": {
            "tags": []
          },
          "execution_count": 36
        }
      ]
    },
    {
      "cell_type": "code",
      "metadata": {
        "colab": {
          "base_uri": "https://localhost:8080/"
        },
        "id": "GeLHusQIzasD",
        "outputId": "22f6d94a-609a-4dc9-cab3-481ff6d3a727"
      },
      "source": [
        "np_sqrt=np.sqrt([2,4,9,16])\r\n",
        "np_sqrt\r\n",
        "from numpy import pi\r\n",
        "#np.cos(0)\r\n",
        "#np.sin(pi/2)\r\n",
        "#np.cos(pi)\r\n",
        "np.floor([1.5,1.6,2.7,3.3,1.1,-0.3,-1.4])\r\n",
        "#np.exp([0,1,5])\r\n"
      ],
      "execution_count": 42,
      "outputs": [
        {
          "output_type": "execute_result",
          "data": {
            "text/plain": [
              "array([ 1.,  1.,  2.,  3.,  1., -1., -2.])"
            ]
          },
          "metadata": {
            "tags": []
          },
          "execution_count": 42
        }
      ]
    },
    {
      "cell_type": "code",
      "metadata": {
        "colab": {
          "base_uri": "https://localhost:8080/"
        },
        "id": "3YZRJxGx2kUZ",
        "outputId": "219f9568-1715-405a-9382-fc2274cf0041"
      },
      "source": [
        "array_a=np.array([2,3,5,9])\r\n",
        "array_b=np.array([0.3,0.3,0.3,0.3])\r\n",
        "\r\n",
        "#array_a*array_b\r\n",
        "scalar_c=0.3\r\n",
        "array_a*scalar_c"
      ],
      "execution_count": 44,
      "outputs": [
        {
          "output_type": "execute_result",
          "data": {
            "text/plain": [
              "array([0.6, 0.9, 1.5, 2.7])"
            ]
          },
          "metadata": {
            "tags": []
          },
          "execution_count": 44
        }
      ]
    },
    {
      "cell_type": "code",
      "metadata": {
        "colab": {
          "base_uri": "https://localhost:8080/"
        },
        "id": "95Vu5sNr3sAm",
        "outputId": "56c2864d-b105-419e-8873-c487f4de0922"
      },
      "source": [
        "inverse_array=np.array([[10,20],[15,25]])\r\n",
        "np.linalg.inv(inverse_array)"
      ],
      "execution_count": 45,
      "outputs": [
        {
          "output_type": "execute_result",
          "data": {
            "text/plain": [
              "array([[-0.5,  0.4],\n",
              "       [ 0.3, -0.2]])"
            ]
          },
          "metadata": {
            "tags": []
          },
          "execution_count": 45
        }
      ]
    },
    {
      "cell_type": "code",
      "metadata": {
        "colab": {
          "base_uri": "https://localhost:8080/"
        },
        "id": "_xbmcNvm4Utp",
        "outputId": "3dde28c0-2eea-4dbd-ec78-97fe22891bac"
      },
      "source": [
        "trace_array=np.array([[10,20],[22,31]])\r\n",
        "np.trace(trace_array)"
      ],
      "execution_count": 48,
      "outputs": [
        {
          "output_type": "execute_result",
          "data": {
            "text/plain": [
              "41"
            ]
          },
          "metadata": {
            "tags": []
          },
          "execution_count": 48
        }
      ]
    }
  ]
}