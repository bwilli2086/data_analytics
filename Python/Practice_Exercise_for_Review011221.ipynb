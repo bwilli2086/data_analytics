{
  "nbformat": 4,
  "nbformat_minor": 0,
  "metadata": {
    "colab": {
      "name": "Practice_Exercise_for_Review011221.ipynb",
      "provenance": [],
      "collapsed_sections": [],
      "include_colab_link": true
    },
    "kernelspec": {
      "name": "python3",
      "display_name": "Python 3"
    }
  },
  "cells": [
    {
      "cell_type": "markdown",
      "metadata": {
        "id": "view-in-github",
        "colab_type": "text"
      },
      "source": [
        "<a href=\"https://colab.research.google.com/github/bwilli2086/data_analytics/blob/main/Python/Practice_Exercise_for_Review011221.ipynb\" target=\"_parent\"><img src=\"https://colab.research.google.com/assets/colab-badge.svg\" alt=\"Open In Colab\"/></a>"
      ]
    },
    {
      "cell_type": "markdown",
      "metadata": {
        "id": "tXcr7hqpYFIo"
      },
      "source": [
        "1. Write a Python program to sum all the items in a list"
      ]
    },
    {
      "cell_type": "code",
      "metadata": {
        "id": "Htkj5scKX53s",
        "colab": {
          "base_uri": "https://localhost:8080/"
        },
        "outputId": "065d2979-7b88-4419-a2d8-2e8ccdeb6f83"
      },
      "source": [
        "num_1=[1,2,3,4,5]\r\n",
        "total=0\r\n",
        "for digit in num_1:\r\n",
        "  total=digit+total\r\n",
        "  print (\"List Number is: \",digit)\r\n",
        "  print (\"Total is: \",total)\r\n"
      ],
      "execution_count": 4,
      "outputs": [
        {
          "output_type": "stream",
          "text": [
            "List Number is:  1\n",
            "Total is:  1\n",
            "List Number is:  2\n",
            "Total is:  3\n",
            "List Number is:  3\n",
            "Total is:  6\n",
            "List Number is:  4\n",
            "Total is:  10\n",
            "List Number is:  5\n",
            "Total is:  15\n"
          ],
          "name": "stdout"
        }
      ]
    },
    {
      "cell_type": "markdown",
      "metadata": {
        "id": "2P9TAiyYYOcc"
      },
      "source": [
        "2. Write a Python program to count the number of strings where the string length is 2 or more and the first and last character are same from a given list of strings\r\n",
        "* Sample List : ['abc', 'xyz', 'aba', '1221']\r\n",
        "\r\n",
        "\r\n"
      ]
    },
    {
      "cell_type": "code",
      "metadata": {
        "id": "0XL35NokYpBZ",
        "colab": {
          "base_uri": "https://localhost:8080/"
        },
        "outputId": "88d24e30-e417-4133-ac12-d035dc9c8519"
      },
      "source": [
        "sample_list=['abc', 'xyz', 'aba', '1221']\r\n",
        "count1=0\r\n",
        "for sample in sample_list:\r\n",
        "  if (len(sample)>=2) and sample[0]==sample[-1]:\r\n",
        "    count1+=1\r\n",
        "    print (\"The words are: \", sample,\"\\n\")\r\n",
        "print (\"There are a total of:\", count1, \"words that match the request\")"
      ],
      "execution_count": 20,
      "outputs": [
        {
          "output_type": "stream",
          "text": [
            "The words are:  aba \n",
            "\n",
            "The words are:  1221 \n",
            "\n",
            "There are a total of: 2 words that match the request\n"
          ],
          "name": "stdout"
        }
      ]
    },
    {
      "cell_type": "markdown",
      "metadata": {
        "id": "4lsqufkdYqHg"
      },
      "source": [
        "3. Write a Python function that takes two lists and returns True if they have at least one common member."
      ]
    },
    {
      "cell_type": "code",
      "metadata": {
        "id": "hNhFSqHFYsWa"
      },
      "source": [
        "def member(list1,list2):\r\n",
        "  result = False\r\n",
        "  for common1 in list1:\r\n",
        "    for common2 in list2:\r\n",
        "      if common1 == common2:\r\n",
        "        result = True\r\n",
        "        return result\r\n",
        "      else:\r\n",
        "          print (\"Not a match\",common1,common2)\r\n",
        "   \r\n",
        "print(member([1,2,3,4,5,6,7,8,9],[1,3,5,7,9]))"
      ],
      "execution_count": null,
      "outputs": []
    },
    {
      "cell_type": "markdown",
      "metadata": {
        "id": "vYfPDaBmYtFo"
      },
      "source": [
        "4. Write a Python program to print a specified list after removing the 0th, 4th and 5th elements.\r\n",
        "* Sample List : ['Red', 'Green', 'White', 'Black', 'Pink', 'Yellow']\r\n",
        "\r\n",
        "\r\n",
        "\r\n",
        "\r\n",
        "\r\n"
      ]
    },
    {
      "cell_type": "code",
      "metadata": {
        "id": "wXCNsI3qZAjB",
        "colab": {
          "base_uri": "https://localhost:8080/"
        },
        "outputId": "38f7f5a1-fe75-41ad-8a8f-11f26f0660f6"
      },
      "source": [
        "list3=['Red', 'Green', 'White', 'Black', 'Pink', 'Yellow']\r\n",
        "list3=[x for (i,x) in enumerate(list3) if i not in (0,4,5)]\r\n",
        "print (list3)\r\n"
      ],
      "execution_count": 105,
      "outputs": [
        {
          "output_type": "stream",
          "text": [
            "['Green', 'White', 'Black']\n"
          ],
          "name": "stdout"
        }
      ]
    },
    {
      "cell_type": "markdown",
      "metadata": {
        "id": "TR8c2eW_ZBJI"
      },
      "source": [
        ""
      ]
    },
    {
      "cell_type": "markdown",
      "metadata": {
        "id": "6qkBW70uZEkh"
      },
      "source": [
        "5. Write a Python program to print the numbers of a specified list after removing even numbers from it."
      ]
    },
    {
      "cell_type": "code",
      "metadata": {
        "id": "4BZTc8uqZHQo",
        "colab": {
          "base_uri": "https://localhost:8080/"
        },
        "outputId": "af50242e-306e-4fa1-839b-bd9ad38b9f9a"
      },
      "source": [
        "num = [1,2,3,4,5,6,7,8,9]\r\n",
        "num = [x for x in num if x%2!=0]\r\n",
        "print(num)"
      ],
      "execution_count": 100,
      "outputs": [
        {
          "output_type": "stream",
          "text": [
            "[1, 3, 5, 7, 9]\n"
          ],
          "name": "stdout"
        }
      ]
    },
    {
      "cell_type": "markdown",
      "metadata": {
        "id": "iIrq_TfAZQhk"
      },
      "source": [
        "6. Write a Python program to convert a list of characters into a string."
      ]
    },
    {
      "cell_type": "code",
      "metadata": {
        "id": "9hPTJj5gZSnk",
        "colab": {
          "base_uri": "https://localhost:8080/"
        },
        "outputId": "5d269202-74b4-4222-dc92-8104747eface"
      },
      "source": [
        "word1 = ['H', 'e', 'l', 'l','o','!']\r\n",
        "combo = ''.join(word1)\r\n",
        "print(combo)"
      ],
      "execution_count": 116,
      "outputs": [
        {
          "output_type": "stream",
          "text": [
            "Hello!\n"
          ],
          "name": "stdout"
        }
      ]
    },
    {
      "cell_type": "markdown",
      "metadata": {
        "id": "SkdABAMBZgar"
      },
      "source": [
        "8. Write a Python program to count the number of elements in a list within a specified range."
      ]
    },
    {
      "cell_type": "code",
      "metadata": {
        "id": "-7xMT5hwaDsO",
        "colab": {
          "base_uri": "https://localhost:8080/"
        },
        "outputId": "683c7b86-29ec-4838-c853-f0d70c74cb3f"
      },
      "source": [
        "def count_list(num3, min, max):\r\n",
        "  count1 = 0\r\n",
        "  for x in num3:\r\n",
        "    if min <= x <= max:\r\n",
        "      count1 += 1\r\n",
        "  return count1\r\n",
        "\r\n",
        "list1 = [10,20,30,40,40,40,70,80,99]\r\n",
        "print(count_list(list1, 20, 100))\r\n"
      ],
      "execution_count": 124,
      "outputs": [
        {
          "output_type": "stream",
          "text": [
            "8\n"
          ],
          "name": "stdout"
        }
      ]
    },
    {
      "cell_type": "markdown",
      "metadata": {
        "id": "3LxonRtgceIz"
      },
      "source": [
        "9. Write a Python program to convert a list of multiple integers into a single integer\r\n",
        "*  Sample list: [11, 33, 50]\r\n",
        "\r\n"
      ]
    },
    {
      "cell_type": "code",
      "metadata": {
        "id": "TCkuaRkAciey",
        "colab": {
          "base_uri": "https://localhost:8080/"
        },
        "outputId": "8f6d179f-6bbd-457c-c0f5-67cae6fbb4e3"
      },
      "source": [
        "list9 = [11, 33, 50] \r\n",
        "for i in list9: \r\n",
        "    print(i, end=\"\")"
      ],
      "execution_count": 125,
      "outputs": [
        {
          "output_type": "stream",
          "text": [
            "113350"
          ],
          "name": "stdout"
        }
      ]
    },
    {
      "cell_type": "markdown",
      "metadata": {
        "id": "X5V3Hvh1hafZ"
      },
      "source": [
        "10.Write a Python program to print a nested lists (each list on a new line) using the print() function.\r\n",
        "\r\n",
        "*  colors = [['Red'], ['Green'], ['Black']]\r\n",
        "\r\n"
      ]
    },
    {
      "cell_type": "code",
      "metadata": {
        "id": "04nRLJj1eYjM",
        "colab": {
          "base_uri": "https://localhost:8080/"
        },
        "outputId": "2f07ecab-6104-4e5c-e72e-0a9d196a57cc"
      },
      "source": [
        "colors = [['Red'], ['Green'], ['Black']]\r\n",
        "print('\\n'.join([str(lst) for lst in colors]))"
      ],
      "execution_count": 126,
      "outputs": [
        {
          "output_type": "stream",
          "text": [
            "['Red']\n",
            "['Green']\n",
            "['Black']\n"
          ],
          "name": "stdout"
        }
      ]
    },
    {
      "cell_type": "markdown",
      "metadata": {
        "id": "6aoN9DIcik2G"
      },
      "source": [
        "11. Write a Python script to concatenate following dictionaries to create a new one using a loop\r\n",
        "\r\n",
        "* dic1={1:10, 2:20}\r\n",
        "* dic2={3:30, 4:40}\r\n",
        "* dic3={5:50,6:60}\r\n",
        "\r\n",
        "\r\n",
        "\r\n",
        "\r\n"
      ]
    },
    {
      "cell_type": "code",
      "metadata": {
        "id": "tRcQVNDajOBG",
        "colab": {
          "base_uri": "https://localhost:8080/"
        },
        "outputId": "f25006b8-aa01-4971-9617-22adc4ce3d66"
      },
      "source": [
        "dic1={1:10, 2:20}\r\n",
        "dic2={3:30, 4:40}\r\n",
        "dic3={5:50,6:60}\r\n",
        "dic4 = {}\r\n",
        "for list11 in (dic1, dic2, dic3): dic4.update(list11)\r\n",
        "print(dic4)"
      ],
      "execution_count": 128,
      "outputs": [
        {
          "output_type": "stream",
          "text": [
            "{1: 10, 2: 20, 3: 30, 4: 40, 5: 50, 6: 60}\n"
          ],
          "name": "stdout"
        }
      ]
    },
    {
      "cell_type": "markdown",
      "metadata": {
        "id": "LJ9xp0nmjV-0"
      },
      "source": [
        "12.Write a Python script to check whether a given key already exists in a dictionary."
      ]
    },
    {
      "cell_type": "code",
      "metadata": {
        "id": "o6eNQ9RQjlHc",
        "colab": {
          "base_uri": "https://localhost:8080/"
        },
        "outputId": "8ed5e364-044e-411b-fd11-3c137ab57d41"
      },
      "source": [
        "ent=int(input('What key would you like to search for?'))\r\n",
        "d = {1: 10, 2: 20, 3: 30, 4: 40, 5: 50, 6: 60}\r\n",
        "def is_key_present(x):\r\n",
        "  if x in d:\r\n",
        "      print('Key is present in the dictionary')\r\n",
        "  else:\r\n",
        "      print('Key is not present in the dictionary')\r\n",
        "is_key_present(ent)\r\n"
      ],
      "execution_count": 141,
      "outputs": [
        {
          "output_type": "stream",
          "text": [
            "What key would you like to search for?60\n",
            "Key is not present in the dictionary\n",
            "Key is not present in the dictionary\n"
          ],
          "name": "stdout"
        }
      ]
    },
    {
      "cell_type": "markdown",
      "metadata": {
        "id": "u49NsDHVkGed"
      },
      "source": [
        "13  Write a Python program to check the validity of password input by users. Go to the editor\r\n",
        "Validation :\r\n",
        "*  At least 1 character from [$#@].\r\n",
        "*  Minimum length 6 characters.\r\n",
        "\r\n",
        "\r\n",
        "\r\n"
      ]
    },
    {
      "cell_type": "code",
      "metadata": {
        "id": "tBrQdblskbzJ",
        "colab": {
          "base_uri": "https://localhost:8080/"
        },
        "outputId": "383bcd17-2571-4d54-9538-641353172702"
      },
      "source": [
        "import re\r\n",
        "password= input(\"Input your password\")\r\n",
        "result1 = True\r\n",
        "while result1:  \r\n",
        "    if (len(password)<6):\r\n",
        "        break\r\n",
        "    elif not re.search(\"[$#@]\",password):\r\n",
        "        break\r\n",
        "    elif re.search(\"\\s\",password):\r\n",
        "        break\r\n",
        "    else:\r\n",
        "        print(\"Valid Password\")\r\n",
        "        result1=False\r\n",
        "        break\r\n",
        "\r\n",
        "if result1:\r\n",
        "    print(\"Not a Valid Password\")"
      ],
      "execution_count": 113,
      "outputs": [
        {
          "output_type": "stream",
          "text": [
            "Input your password123456$\n",
            "Valid Password\n"
          ],
          "name": "stdout"
        }
      ]
    },
    {
      "cell_type": "markdown",
      "metadata": {
        "id": "bgyJXNNKlpnh"
      },
      "source": [
        "14. Write a Python program to reverse a string"
      ]
    },
    {
      "cell_type": "code",
      "metadata": {
        "id": "ajCggiVklvqT",
        "colab": {
          "base_uri": "https://localhost:8080/"
        },
        "outputId": "7417e701-b508-45ae-b7c3-49d5748daded"
      },
      "source": [
        "def string_reverse(string1):\r\n",
        "\r\n",
        "    rstr1 = ''\r\n",
        "    index = len(string1)\r\n",
        "    while index > 0:\r\n",
        "        rstr1 += string1[ index - 1 ]\r\n",
        "        index = index - 1\r\n",
        "    return rstr1\r\n",
        "print(string_reverse('1234abcd'))"
      ],
      "execution_count": 142,
      "outputs": [
        {
          "output_type": "stream",
          "text": [
            "dcba4321\n"
          ],
          "name": "stdout"
        }
      ]
    },
    {
      "cell_type": "markdown",
      "metadata": {
        "id": "6td2aFajmDEY"
      },
      "source": [
        "15. rite a Python program that accepts a hyphen-separated sequence of words as input and prints the words in a hyphen-separated sequence after sorting them alphabetically\r\n",
        "* green-red-yellow-black-white\r\n",
        "\r\n",
        "\r\n"
      ]
    },
    {
      "cell_type": "code",
      "metadata": {
        "id": "ZKYkFqtymN8r",
        "colab": {
          "base_uri": "https://localhost:8080/"
        },
        "outputId": "f552b828-d182-4fbd-d8d8-90b8188b63ee"
      },
      "source": [
        "items=[n for n in input().split('-')]\r\n",
        "items.sort()\r\n",
        "print('-'.join(items))"
      ],
      "execution_count": 108,
      "outputs": [
        {
          "output_type": "stream",
          "text": [
            "red-green\n",
            "green-red\n"
          ],
          "name": "stdout"
        }
      ]
    }
  ]
}