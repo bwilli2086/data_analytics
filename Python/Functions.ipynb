{
  "nbformat": 4,
  "nbformat_minor": 0,
  "metadata": {
    "colab": {
      "name": "Functions.ipynb",
      "provenance": [],
      "authorship_tag": "ABX9TyOE9qen/3nLfytyoFFiRGsl",
      "include_colab_link": true
    },
    "kernelspec": {
      "name": "python3",
      "display_name": "Python 3"
    }
  },
  "cells": [
    {
      "cell_type": "markdown",
      "metadata": {
        "id": "view-in-github",
        "colab_type": "text"
      },
      "source": [
        "<a href=\"https://colab.research.google.com/github/bwilli2086/data_analytics/blob/main/Python/Functions.ipynb\" target=\"_parent\"><img src=\"https://colab.research.google.com/assets/colab-badge.svg\" alt=\"Open In Colab\"/></a>"
      ]
    },
    {
      "cell_type": "code",
      "metadata": {
        "colab": {
          "base_uri": "https://localhost:8080/"
        },
        "id": "5rxPvvh8zjmt",
        "outputId": "6b3bf952-6d0e-40f5-a7cb-3ea7ffcbd597"
      },
      "source": [
        "def greeting(name):\r\n",
        "    print (\"hello, \"+name)\r\n",
        "greeting(\"Sam\")"
      ],
      "execution_count": null,
      "outputs": [
        {
          "output_type": "stream",
          "text": [
            "hello, Sam\n"
          ],
          "name": "stdout"
        }
      ]
    },
    {
      "cell_type": "code",
      "metadata": {
        "colab": {
          "base_uri": "https://localhost:8080/"
        },
        "id": "XRl3uNoT1KCE",
        "outputId": "16ea71d1-721e-43b1-9197-959a92f911da"
      },
      "source": [
        "def greeting_2(first_name,last_name,agex):\r\n",
        "  print(\"Hello,\" + first_name+\" \"+last_name)\r\n",
        "  print(\"you are: \"+agex+\" years old\")\r\n",
        "greeting_2(\"Paul\",\"Smith\",\"25\")"
      ],
      "execution_count": null,
      "outputs": [
        {
          "output_type": "stream",
          "text": [
            "Hello,paul Smith\n",
            "you are: 25 years old\n"
          ],
          "name": "stdout"
        }
      ]
    },
    {
      "cell_type": "code",
      "metadata": {
        "colab": {
          "base_uri": "https://localhost:8080/"
        },
        "id": "MeqMudUI6Dx_",
        "outputId": "5781c22b-3042-4c70-cdfb-871fec60a001"
      },
      "source": [
        "def location(state,country):\r\n",
        " \r\n",
        "    print (\"The State is: \" + state)\r\n",
        "    print (\"The country is:\"+country)\r\n",
        "   \r\n",
        "location(\"New York\",\"US\")\r\n",
        "location(\"New Jersey\",\"USA\")\r\n",
        "location(\"Florida\",\"US\")"
      ],
      "execution_count": 25,
      "outputs": [
        {
          "output_type": "stream",
          "text": [
            "The State is: New York\n",
            "The country is:US\n",
            "The State is: New Jersey\n",
            "The country is:USA\n",
            "The State is: Florida\n",
            "The country is:US\n"
          ],
          "name": "stdout"
        }
      ]
    }
  ]
}