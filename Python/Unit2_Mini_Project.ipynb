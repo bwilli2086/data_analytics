{
  "nbformat": 4,
  "nbformat_minor": 0,
  "metadata": {
    "colab": {
      "name": "Unit2_Mini_Project.ipynb",
      "provenance": [],
      "collapsed_sections": [],
      "include_colab_link": true
    },
    "kernelspec": {
      "name": "python3",
      "display_name": "Python 3"
    }
  },
  "cells": [
    {
      "cell_type": "markdown",
      "metadata": {
        "id": "view-in-github",
        "colab_type": "text"
      },
      "source": [
        "<a href=\"https://colab.research.google.com/github/bwilli2086/data_analytics/blob/main/Python/Unit2_Mini_Project.ipynb\" target=\"_parent\"><img src=\"https://colab.research.google.com/assets/colab-badge.svg\" alt=\"Open In Colab\"/></a>"
      ]
    },
    {
      "cell_type": "code",
      "metadata": {
        "colab": {
          "base_uri": "https://localhost:8080/"
        },
        "id": "c3SdFAcQ7D3m",
        "outputId": "4e453aed-ed4d-40e7-e38e-1f86689781d8"
      },
      "source": [
        " #Part 1\r\n",
        "num=int(input(\"Enter number:\"))\r\n",
        "if num % 2 == 0:\r\n",
        "   print (\"The number is even\", num)\r\n",
        "else:\r\n",
        "    print (\"The number is odd\", num)"
      ],
      "execution_count": null,
      "outputs": [
        {
          "output_type": "stream",
          "text": [
            "Enter number:5\n",
            "The number is odd 5\n"
          ],
          "name": "stdout"
        }
      ]
    },
    {
      "cell_type": "code",
      "metadata": {
        "id": "gb0SdFl_OtjI"
      },
      "source": [
        " #Part 1 - Alternative\r\n",
        "num=int(input(\"Enter number:\"))\r\n",
        "if(evenOdd(num)): \r\n",
        "   print (\"The number is even\", num)\r\n",
        "else:\r\n",
        "    print (\"The number is odd\", num)"
      ],
      "execution_count": null,
      "outputs": []
    },
    {
      "cell_type": "code",
      "metadata": {
        "id": "kNyug4YrD3x6"
      },
      "source": [
        " #Part 2\r\n",
        "  num=int(input(\"Enter number:\"))\r\n",
        "  if num % 4 == 0 and num % 2 == 0:\r\n",
        "    print (\"This is even and a multiple of 4\")\r\n",
        "  elif num % 2 == 0:\r\n",
        "   print (\"The number is even\", num)\r\n",
        "  else:\r\n",
        "    print (\"The number is odd\", num)"
      ],
      "execution_count": null,
      "outputs": []
    },
    {
      "cell_type": "code",
      "metadata": {
        "id": "vIDCkH0SE8rN"
      },
      "source": [
        "#Part 3\r\n",
        "num = input('Please enter a number: ')\r\n",
        "check = input('Please enter a number to divide by: ')\r\n",
        "if int(num) % int(check) == 0:\r\n",
        "  print('The number you entered: ' + num + 'divides evenly by :' + check)\r\n",
        "else:\r\n",
        "  print('The number you entered: ' + num + ' does not divide evenly by :' + check)\r\n"
      ],
      "execution_count": null,
      "outputs": []
    },
    {
      "cell_type": "code",
      "metadata": {
        "id": "BaZF4pAnHaDD"
      },
      "source": [
        "#Part 4\r\n",
        "def evenOdd(n): \r\n",
        "  if(n==0): \r\n",
        "    return True\r\n",
        "  elif(n==1): \r\n",
        "    return False\r\n",
        "  else: \r\n",
        "    return evenOdd(n-2) \r\n",
        "num=int(input(\"Enter number:\"))\r\n",
        "if(evenOdd(num)): \r\n",
        "    print(num,\"num is even\") \r\n",
        "else: \r\n",
        "    print(num,\"num is odd\")"
      ],
      "execution_count": null,
      "outputs": []
    }
  ]
}