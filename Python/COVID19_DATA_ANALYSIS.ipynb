{
  "nbformat": 4,
  "nbformat_minor": 0,
  "metadata": {
    "colab": {
      "name": "COVID19_DATA_ANALYSIS.ipynb",
      "provenance": [],
      "collapsed_sections": [],
      "toc_visible": true,
      "include_colab_link": true
    },
    "kernelspec": {
      "name": "python3",
      "display_name": "Python 3"
    }
  },
  "cells": [
    {
      "cell_type": "markdown",
      "metadata": {
        "id": "view-in-github",
        "colab_type": "text"
      },
      "source": [
        "<a href=\"https://colab.research.google.com/github/bwilli2086/data_analytics/blob/main/Python/COVID19_DATA_ANALYSIS.ipynb\" target=\"_parent\"><img src=\"https://colab.research.google.com/assets/colab-badge.svg\" alt=\"Open In Colab\"/></a>"
      ]
    },
    {
      "cell_type": "markdown",
      "metadata": {
        "id": "9jvXpX2bbIFF"
      },
      "source": [
        "# COVID 19 Data Analysis"
      ]
    },
    {
      "cell_type": "markdown",
      "metadata": {
        "id": "RSvGZmxBa_Gk"
      },
      "source": [
        "**Description:** This script will read the latest data from the New York Times' county-level COVID-19 database at https://github.com/nytimes/covid-19-data/blob/master/us-counties.csv, filter the data for a chosen county in a chosen state, calculate the daily count of new cases and new deaths, print the most recent 28 days' worth of data for the selected county, and save the county's data for all dates to a comma-separated value (.csv) file on your computer. The printed data can be copied and pasted directly into a spreadsheet for further analysis and visualization.\r\n",
        "\r\n",
        "**Note:** For information about the data, see https://github.com/nytimes/covid-19-data.\r\n",
        "\r\n",
        "**Note:** After you have run the script one time in a given Anaconda environment, you may reduce the script's execution time by adding a `#` in front of `pip install pandas`. For example, `#pip install pandas` instead of `pip install pandas`. The `#` will tell Python to skip the code without running it."
      ]
    },
    {
      "cell_type": "markdown",
      "metadata": {
        "id": "ji_HknaobZJh"
      },
      "source": [
        "# Task 1 : Environment Set up"
      ]
    },
    {
      "cell_type": "markdown",
      "metadata": {
        "id": "q2y0bY0XbhNZ"
      },
      "source": [
        "Import all required libraries that are needed for data analysis"
      ]
    },
    {
      "cell_type": "code",
      "metadata": {
        "id": "k2f9bX3aiTDP"
      },
      "source": [
        "import pandas as pd \n",
        "import numpy as np\n",
        "import matplotlib.pyplot as plt\n",
        "from matplotlib import style\n",
        "import seaborn as sns\n",
        "import datetime\n",
        "import plotly.express as px"
      ],
      "execution_count": 1,
      "outputs": []
    },
    {
      "cell_type": "markdown",
      "metadata": {
        "id": "vgt8s61dbueM"
      },
      "source": [
        "# Task 2 :  Data Collection"
      ]
    },
    {
      "cell_type": "markdown",
      "metadata": {
        "id": "CEc5pqrkbxcX"
      },
      "source": [
        "Use nytimes github repository as a data source to collect the covid 19 data in real time and ingest it into colab notebook for data analysis purpose"
      ]
    },
    {
      "cell_type": "code",
      "metadata": {
        "id": "vgw9nO9Hm_SB"
      },
      "source": [
        "df_state = pd.read_csv('https://raw.githubusercontent.com/nytimes/covid-19-data/master/us-states.csv')\r\n",
        "df_counties = pd.read_csv('https://raw.githubusercontent.com/nytimes/covid-19-data/master/us-counties.csv')\r\n",
        "ny_state=df_state.loc[df_state['state']=='New York']\r\n",
        "ny=df_counties.loc[df_counties['state']=='New York']\r\n",
        "fl=df_state.loc[df_state['state']=='Florida']\r\n",
        "ca=df_state.loc[df_state['state']=='California']\r\n",
        "tx=df_state.loc[df_state['state']=='Texas']\r\n",
        "az=df_state.loc[df_state['state']=='Arizona']\r\n",
        "\r\n"
      ],
      "execution_count": 2,
      "outputs": []
    },
    {
      "cell_type": "code",
      "metadata": {
        "id": "FEG9n2sI0Yxu",
        "colab": {
          "base_uri": "https://localhost:8080/",
          "height": 1000
        },
        "outputId": "6fb8b365-ceb7-4e7d-8a32-818aa6c49e0f"
      },
      "source": [
        "#review NYS Counties Data\r\n",
        "\r\n",
        "ny.groupby(['county'], sort=False)[['cases']].describe()\r\n",
        "\r\n"
      ],
      "execution_count": 3,
      "outputs": [
        {
          "output_type": "execute_result",
          "data": {
            "text/html": [
              "<div>\n",
              "<style scoped>\n",
              "    .dataframe tbody tr th:only-of-type {\n",
              "        vertical-align: middle;\n",
              "    }\n",
              "\n",
              "    .dataframe tbody tr th {\n",
              "        vertical-align: top;\n",
              "    }\n",
              "\n",
              "    .dataframe thead tr th {\n",
              "        text-align: left;\n",
              "    }\n",
              "\n",
              "    .dataframe thead tr:last-of-type th {\n",
              "        text-align: right;\n",
              "    }\n",
              "</style>\n",
              "<table border=\"1\" class=\"dataframe\">\n",
              "  <thead>\n",
              "    <tr>\n",
              "      <th></th>\n",
              "      <th colspan=\"8\" halign=\"left\">cases</th>\n",
              "    </tr>\n",
              "    <tr>\n",
              "      <th></th>\n",
              "      <th>count</th>\n",
              "      <th>mean</th>\n",
              "      <th>std</th>\n",
              "      <th>min</th>\n",
              "      <th>25%</th>\n",
              "      <th>50%</th>\n",
              "      <th>75%</th>\n",
              "      <th>max</th>\n",
              "    </tr>\n",
              "    <tr>\n",
              "      <th>county</th>\n",
              "      <th></th>\n",
              "      <th></th>\n",
              "      <th></th>\n",
              "      <th></th>\n",
              "      <th></th>\n",
              "      <th></th>\n",
              "      <th></th>\n",
              "      <th></th>\n",
              "    </tr>\n",
              "  </thead>\n",
              "  <tbody>\n",
              "    <tr>\n",
              "      <th>New York City</th>\n",
              "      <td>323.0</td>\n",
              "      <td>229800.526316</td>\n",
              "      <td>109891.118253</td>\n",
              "      <td>1.0</td>\n",
              "      <td>199949.50</td>\n",
              "      <td>232517.0</td>\n",
              "      <td>265792.00</td>\n",
              "      <td>529834.0</td>\n",
              "    </tr>\n",
              "    <tr>\n",
              "      <th>Westchester</th>\n",
              "      <td>320.0</td>\n",
              "      <td>36928.465625</td>\n",
              "      <td>16923.348217</td>\n",
              "      <td>9.0</td>\n",
              "      <td>32851.50</td>\n",
              "      <td>36251.5</td>\n",
              "      <td>40584.75</td>\n",
              "      <td>83707.0</td>\n",
              "    </tr>\n",
              "    <tr>\n",
              "      <th>Nassau</th>\n",
              "      <td>319.0</td>\n",
              "      <td>45239.131661</td>\n",
              "      <td>21746.244218</td>\n",
              "      <td>1.0</td>\n",
              "      <td>39781.50</td>\n",
              "      <td>43724.0</td>\n",
              "      <td>49924.00</td>\n",
              "      <td>112702.0</td>\n",
              "    </tr>\n",
              "    <tr>\n",
              "      <th>Rockland</th>\n",
              "      <td>318.0</td>\n",
              "      <td>14931.820755</td>\n",
              "      <td>6824.398671</td>\n",
              "      <td>2.0</td>\n",
              "      <td>12971.25</td>\n",
              "      <td>13960.0</td>\n",
              "      <td>18088.50</td>\n",
              "      <td>31509.0</td>\n",
              "    </tr>\n",
              "    <tr>\n",
              "      <th>Saratoga</th>\n",
              "      <td>317.0</td>\n",
              "      <td>1396.539432</td>\n",
              "      <td>1801.546616</td>\n",
              "      <td>2.0</td>\n",
              "      <td>461.00</td>\n",
              "      <td>768.0</td>\n",
              "      <td>1383.00</td>\n",
              "      <td>8984.0</td>\n",
              "    </tr>\n",
              "    <tr>\n",
              "      <th>Suffolk</th>\n",
              "      <td>316.0</td>\n",
              "      <td>46132.996835</td>\n",
              "      <td>23994.908353</td>\n",
              "      <td>1.0</td>\n",
              "      <td>39171.75</td>\n",
              "      <td>43967.5</td>\n",
              "      <td>49324.00</td>\n",
              "      <td>125925.0</td>\n",
              "    </tr>\n",
              "    <tr>\n",
              "      <th>Ulster</th>\n",
              "      <td>316.0</td>\n",
              "      <td>2302.901899</td>\n",
              "      <td>1541.015244</td>\n",
              "      <td>1.0</td>\n",
              "      <td>1636.50</td>\n",
              "      <td>2079.0</td>\n",
              "      <td>2540.25</td>\n",
              "      <td>7548.0</td>\n",
              "    </tr>\n",
              "    <tr>\n",
              "      <th>Monroe</th>\n",
              "      <td>313.0</td>\n",
              "      <td>8440.888179</td>\n",
              "      <td>10190.651401</td>\n",
              "      <td>1.0</td>\n",
              "      <td>2825.00</td>\n",
              "      <td>5123.0</td>\n",
              "      <td>7597.00</td>\n",
              "      <td>43660.0</td>\n",
              "    </tr>\n",
              "    <tr>\n",
              "      <th>Albany</th>\n",
              "      <td>312.0</td>\n",
              "      <td>3579.506410</td>\n",
              "      <td>3380.226369</td>\n",
              "      <td>2.0</td>\n",
              "      <td>1829.00</td>\n",
              "      <td>2641.0</td>\n",
              "      <td>3730.50</td>\n",
              "      <td>15981.0</td>\n",
              "    </tr>\n",
              "    <tr>\n",
              "      <th>Delaware</th>\n",
              "      <td>312.0</td>\n",
              "      <td>194.153846</td>\n",
              "      <td>217.684103</td>\n",
              "      <td>1.0</td>\n",
              "      <td>78.75</td>\n",
              "      <td>107.0</td>\n",
              "      <td>188.25</td>\n",
              "      <td>990.0</td>\n",
              "    </tr>\n",
              "    <tr>\n",
              "      <th>Dutchess</th>\n",
              "      <td>312.0</td>\n",
              "      <td>5182.548077</td>\n",
              "      <td>3184.583094</td>\n",
              "      <td>1.0</td>\n",
              "      <td>3882.00</td>\n",
              "      <td>4661.5</td>\n",
              "      <td>5551.50</td>\n",
              "      <td>16327.0</td>\n",
              "    </tr>\n",
              "    <tr>\n",
              "      <th>Herkimer</th>\n",
              "      <td>312.0</td>\n",
              "      <td>480.695513</td>\n",
              "      <td>705.637077</td>\n",
              "      <td>1.0</td>\n",
              "      <td>106.75</td>\n",
              "      <td>280.0</td>\n",
              "      <td>396.75</td>\n",
              "      <td>3528.0</td>\n",
              "    </tr>\n",
              "    <tr>\n",
              "      <th>Orange</th>\n",
              "      <td>312.0</td>\n",
              "      <td>12068.224359</td>\n",
              "      <td>5734.941674</td>\n",
              "      <td>1.0</td>\n",
              "      <td>10367.00</td>\n",
              "      <td>11238.0</td>\n",
              "      <td>13859.75</td>\n",
              "      <td>28401.0</td>\n",
              "    </tr>\n",
              "    <tr>\n",
              "      <th>Schenectady</th>\n",
              "      <td>311.0</td>\n",
              "      <td>1633.154341</td>\n",
              "      <td>1763.428064</td>\n",
              "      <td>1.0</td>\n",
              "      <td>683.00</td>\n",
              "      <td>1101.0</td>\n",
              "      <td>1611.00</td>\n",
              "      <td>8480.0</td>\n",
              "    </tr>\n",
              "    <tr>\n",
              "      <th>Broome</th>\n",
              "      <td>310.0</td>\n",
              "      <td>2372.996774</td>\n",
              "      <td>2703.367406</td>\n",
              "      <td>1.0</td>\n",
              "      <td>562.25</td>\n",
              "      <td>1165.5</td>\n",
              "      <td>3731.00</td>\n",
              "      <td>10866.0</td>\n",
              "    </tr>\n",
              "    <tr>\n",
              "      <th>Tioga</th>\n",
              "      <td>310.0</td>\n",
              "      <td>467.193548</td>\n",
              "      <td>561.800332</td>\n",
              "      <td>1.0</td>\n",
              "      <td>128.50</td>\n",
              "      <td>195.0</td>\n",
              "      <td>696.50</td>\n",
              "      <td>2167.0</td>\n",
              "    </tr>\n",
              "    <tr>\n",
              "      <th>Tompkins</th>\n",
              "      <td>310.0</td>\n",
              "      <td>546.580645</td>\n",
              "      <td>635.112536</td>\n",
              "      <td>1.0</td>\n",
              "      <td>161.75</td>\n",
              "      <td>238.0</td>\n",
              "      <td>654.50</td>\n",
              "      <td>2613.0</td>\n",
              "    </tr>\n",
              "    <tr>\n",
              "      <th>Erie</th>\n",
              "      <td>309.0</td>\n",
              "      <td>13112.313916</td>\n",
              "      <td>12263.869119</td>\n",
              "      <td>3.0</td>\n",
              "      <td>6070.00</td>\n",
              "      <td>9147.0</td>\n",
              "      <td>13531.00</td>\n",
              "      <td>51384.0</td>\n",
              "    </tr>\n",
              "    <tr>\n",
              "      <th>Greene</th>\n",
              "      <td>309.0</td>\n",
              "      <td>429.087379</td>\n",
              "      <td>400.802201</td>\n",
              "      <td>2.0</td>\n",
              "      <td>238.00</td>\n",
              "      <td>298.0</td>\n",
              "      <td>516.00</td>\n",
              "      <td>1995.0</td>\n",
              "    </tr>\n",
              "    <tr>\n",
              "      <th>Montgomery</th>\n",
              "      <td>309.0</td>\n",
              "      <td>319.135922</td>\n",
              "      <td>435.867653</td>\n",
              "      <td>1.0</td>\n",
              "      <td>91.00</td>\n",
              "      <td>187.0</td>\n",
              "      <td>273.00</td>\n",
              "      <td>2167.0</td>\n",
              "    </tr>\n",
              "    <tr>\n",
              "      <th>Putnam</th>\n",
              "      <td>309.0</td>\n",
              "      <td>1823.336570</td>\n",
              "      <td>1321.603818</td>\n",
              "      <td>2.0</td>\n",
              "      <td>1252.00</td>\n",
              "      <td>1461.0</td>\n",
              "      <td>1861.00</td>\n",
              "      <td>6386.0</td>\n",
              "    </tr>\n",
              "    <tr>\n",
              "      <th>Allegany</th>\n",
              "      <td>308.0</td>\n",
              "      <td>383.386364</td>\n",
              "      <td>609.225030</td>\n",
              "      <td>2.0</td>\n",
              "      <td>47.25</td>\n",
              "      <td>80.0</td>\n",
              "      <td>352.00</td>\n",
              "      <td>2328.0</td>\n",
              "    </tr>\n",
              "    <tr>\n",
              "      <th>Onondaga</th>\n",
              "      <td>308.0</td>\n",
              "      <td>5792.321429</td>\n",
              "      <td>6372.645614</td>\n",
              "      <td>1.0</td>\n",
              "      <td>2190.25</td>\n",
              "      <td>3677.0</td>\n",
              "      <td>5770.25</td>\n",
              "      <td>27190.0</td>\n",
              "    </tr>\n",
              "    <tr>\n",
              "      <th>Ontario</th>\n",
              "      <td>308.0</td>\n",
              "      <td>757.616883</td>\n",
              "      <td>1033.706286</td>\n",
              "      <td>1.0</td>\n",
              "      <td>207.75</td>\n",
              "      <td>368.5</td>\n",
              "      <td>712.75</td>\n",
              "      <td>4647.0</td>\n",
              "    </tr>\n",
              "    <tr>\n",
              "      <th>Clinton</th>\n",
              "      <td>307.0</td>\n",
              "      <td>282.263844</td>\n",
              "      <td>389.598761</td>\n",
              "      <td>1.0</td>\n",
              "      <td>96.50</td>\n",
              "      <td>133.0</td>\n",
              "      <td>271.50</td>\n",
              "      <td>2091.0</td>\n",
              "    </tr>\n",
              "    <tr>\n",
              "      <th>Rensselaer</th>\n",
              "      <td>307.0</td>\n",
              "      <td>1174.228013</td>\n",
              "      <td>1334.523295</td>\n",
              "      <td>1.0</td>\n",
              "      <td>492.50</td>\n",
              "      <td>795.0</td>\n",
              "      <td>1127.50</td>\n",
              "      <td>6693.0</td>\n",
              "    </tr>\n",
              "    <tr>\n",
              "      <th>Sullivan</th>\n",
              "      <td>307.0</td>\n",
              "      <td>1574.182410</td>\n",
              "      <td>771.137200</td>\n",
              "      <td>1.0</td>\n",
              "      <td>1390.50</td>\n",
              "      <td>1493.0</td>\n",
              "      <td>1821.50</td>\n",
              "      <td>3765.0</td>\n",
              "    </tr>\n",
              "    <tr>\n",
              "      <th>Wyoming</th>\n",
              "      <td>307.0</td>\n",
              "      <td>299.703583</td>\n",
              "      <td>450.852468</td>\n",
              "      <td>1.0</td>\n",
              "      <td>86.00</td>\n",
              "      <td>118.0</td>\n",
              "      <td>204.00</td>\n",
              "      <td>2114.0</td>\n",
              "    </tr>\n",
              "    <tr>\n",
              "      <th>Chenango</th>\n",
              "      <td>306.0</td>\n",
              "      <td>352.310458</td>\n",
              "      <td>371.789221</td>\n",
              "      <td>1.0</td>\n",
              "      <td>133.00</td>\n",
              "      <td>218.0</td>\n",
              "      <td>427.25</td>\n",
              "      <td>1704.0</td>\n",
              "    </tr>\n",
              "    <tr>\n",
              "      <th>Essex</th>\n",
              "      <td>306.0</td>\n",
              "      <td>171.091503</td>\n",
              "      <td>197.520445</td>\n",
              "      <td>1.0</td>\n",
              "      <td>46.00</td>\n",
              "      <td>69.0</td>\n",
              "      <td>211.75</td>\n",
              "      <td>967.0</td>\n",
              "    </tr>\n",
              "    <tr>\n",
              "      <th>Hamilton</th>\n",
              "      <td>306.0</td>\n",
              "      <td>23.823529</td>\n",
              "      <td>34.006001</td>\n",
              "      <td>1.0</td>\n",
              "      <td>5.00</td>\n",
              "      <td>11.0</td>\n",
              "      <td>19.00</td>\n",
              "      <td>145.0</td>\n",
              "    </tr>\n",
              "    <tr>\n",
              "      <th>Jefferson</th>\n",
              "      <td>306.0</td>\n",
              "      <td>365.702614</td>\n",
              "      <td>612.225341</td>\n",
              "      <td>1.0</td>\n",
              "      <td>74.00</td>\n",
              "      <td>143.0</td>\n",
              "      <td>228.75</td>\n",
              "      <td>3094.0</td>\n",
              "    </tr>\n",
              "    <tr>\n",
              "      <th>Livingston</th>\n",
              "      <td>306.0</td>\n",
              "      <td>408.450980</td>\n",
              "      <td>587.931310</td>\n",
              "      <td>1.0</td>\n",
              "      <td>119.25</td>\n",
              "      <td>178.0</td>\n",
              "      <td>354.50</td>\n",
              "      <td>2645.0</td>\n",
              "    </tr>\n",
              "    <tr>\n",
              "      <th>Warren</th>\n",
              "      <td>306.0</td>\n",
              "      <td>418.071895</td>\n",
              "      <td>364.216511</td>\n",
              "      <td>1.0</td>\n",
              "      <td>255.25</td>\n",
              "      <td>312.5</td>\n",
              "      <td>468.75</td>\n",
              "      <td>2004.0</td>\n",
              "    </tr>\n",
              "    <tr>\n",
              "      <th>Washington</th>\n",
              "      <td>306.0</td>\n",
              "      <td>328.307190</td>\n",
              "      <td>255.189965</td>\n",
              "      <td>1.0</td>\n",
              "      <td>237.25</td>\n",
              "      <td>261.5</td>\n",
              "      <td>352.25</td>\n",
              "      <td>1438.0</td>\n",
              "    </tr>\n",
              "    <tr>\n",
              "      <th>Schoharie</th>\n",
              "      <td>305.0</td>\n",
              "      <td>135.800000</td>\n",
              "      <td>177.953376</td>\n",
              "      <td>1.0</td>\n",
              "      <td>51.00</td>\n",
              "      <td>69.0</td>\n",
              "      <td>116.00</td>\n",
              "      <td>882.0</td>\n",
              "    </tr>\n",
              "    <tr>\n",
              "      <th>Wayne</th>\n",
              "      <td>305.0</td>\n",
              "      <td>586.298361</td>\n",
              "      <td>821.785988</td>\n",
              "      <td>1.0</td>\n",
              "      <td>120.00</td>\n",
              "      <td>270.0</td>\n",
              "      <td>573.00</td>\n",
              "      <td>3606.0</td>\n",
              "    </tr>\n",
              "    <tr>\n",
              "      <th>Columbia</th>\n",
              "      <td>304.0</td>\n",
              "      <td>646.220395</td>\n",
              "      <td>473.456067</td>\n",
              "      <td>1.0</td>\n",
              "      <td>399.75</td>\n",
              "      <td>558.5</td>\n",
              "      <td>740.50</td>\n",
              "      <td>2397.0</td>\n",
              "    </tr>\n",
              "    <tr>\n",
              "      <th>Fulton</th>\n",
              "      <td>304.0</td>\n",
              "      <td>392.703947</td>\n",
              "      <td>395.264382</td>\n",
              "      <td>1.0</td>\n",
              "      <td>214.50</td>\n",
              "      <td>305.0</td>\n",
              "      <td>367.25</td>\n",
              "      <td>2039.0</td>\n",
              "    </tr>\n",
              "    <tr>\n",
              "      <th>Genesee</th>\n",
              "      <td>304.0</td>\n",
              "      <td>599.319079</td>\n",
              "      <td>821.775330</td>\n",
              "      <td>1.0</td>\n",
              "      <td>204.25</td>\n",
              "      <td>288.5</td>\n",
              "      <td>414.75</td>\n",
              "      <td>3630.0</td>\n",
              "    </tr>\n",
              "    <tr>\n",
              "      <th>Niagara</th>\n",
              "      <td>304.0</td>\n",
              "      <td>2366.404605</td>\n",
              "      <td>2581.826044</td>\n",
              "      <td>3.0</td>\n",
              "      <td>1080.50</td>\n",
              "      <td>1539.5</td>\n",
              "      <td>2157.75</td>\n",
              "      <td>11822.0</td>\n",
              "    </tr>\n",
              "    <tr>\n",
              "      <th>Oneida</th>\n",
              "      <td>304.0</td>\n",
              "      <td>3180.953947</td>\n",
              "      <td>3646.787042</td>\n",
              "      <td>2.0</td>\n",
              "      <td>1066.25</td>\n",
              "      <td>2215.5</td>\n",
              "      <td>2874.25</td>\n",
              "      <td>16502.0</td>\n",
              "    </tr>\n",
              "    <tr>\n",
              "      <th>Steuben</th>\n",
              "      <td>303.0</td>\n",
              "      <td>866.788779</td>\n",
              "      <td>1087.923249</td>\n",
              "      <td>2.0</td>\n",
              "      <td>245.50</td>\n",
              "      <td>307.0</td>\n",
              "      <td>1120.00</td>\n",
              "      <td>4541.0</td>\n",
              "    </tr>\n",
              "    <tr>\n",
              "      <th>Cortland</th>\n",
              "      <td>302.0</td>\n",
              "      <td>450.463576</td>\n",
              "      <td>677.574331</td>\n",
              "      <td>1.0</td>\n",
              "      <td>41.00</td>\n",
              "      <td>97.5</td>\n",
              "      <td>596.50</td>\n",
              "      <td>2604.0</td>\n",
              "    </tr>\n",
              "    <tr>\n",
              "      <th>Madison</th>\n",
              "      <td>302.0</td>\n",
              "      <td>650.784768</td>\n",
              "      <td>671.719129</td>\n",
              "      <td>1.0</td>\n",
              "      <td>323.50</td>\n",
              "      <td>424.0</td>\n",
              "      <td>600.00</td>\n",
              "      <td>3073.0</td>\n",
              "    </tr>\n",
              "    <tr>\n",
              "      <th>St. Lawrence</th>\n",
              "      <td>302.0</td>\n",
              "      <td>538.950331</td>\n",
              "      <td>698.000577</td>\n",
              "      <td>1.0</td>\n",
              "      <td>207.50</td>\n",
              "      <td>264.0</td>\n",
              "      <td>434.00</td>\n",
              "      <td>3496.0</td>\n",
              "    </tr>\n",
              "    <tr>\n",
              "      <th>Cayuga</th>\n",
              "      <td>301.0</td>\n",
              "      <td>556.724252</td>\n",
              "      <td>950.466430</td>\n",
              "      <td>2.0</td>\n",
              "      <td>100.00</td>\n",
              "      <td>164.0</td>\n",
              "      <td>465.00</td>\n",
              "      <td>4310.0</td>\n",
              "    </tr>\n",
              "    <tr>\n",
              "      <th>Oswego</th>\n",
              "      <td>301.0</td>\n",
              "      <td>777.252492</td>\n",
              "      <td>1123.522682</td>\n",
              "      <td>1.0</td>\n",
              "      <td>114.00</td>\n",
              "      <td>276.0</td>\n",
              "      <td>669.00</td>\n",
              "      <td>4816.0</td>\n",
              "    </tr>\n",
              "    <tr>\n",
              "      <th>Otsego</th>\n",
              "      <td>301.0</td>\n",
              "      <td>333.345515</td>\n",
              "      <td>379.593704</td>\n",
              "      <td>1.0</td>\n",
              "      <td>74.00</td>\n",
              "      <td>123.0</td>\n",
              "      <td>422.00</td>\n",
              "      <td>1623.0</td>\n",
              "    </tr>\n",
              "    <tr>\n",
              "      <th>Chemung</th>\n",
              "      <td>300.0</td>\n",
              "      <td>1148.133333</td>\n",
              "      <td>1572.056781</td>\n",
              "      <td>1.0</td>\n",
              "      <td>137.00</td>\n",
              "      <td>193.0</td>\n",
              "      <td>1929.25</td>\n",
              "      <td>5534.0</td>\n",
              "    </tr>\n",
              "    <tr>\n",
              "      <th>Orleans</th>\n",
              "      <td>300.0</td>\n",
              "      <td>420.190000</td>\n",
              "      <td>395.276814</td>\n",
              "      <td>2.0</td>\n",
              "      <td>254.75</td>\n",
              "      <td>303.0</td>\n",
              "      <td>418.75</td>\n",
              "      <td>1898.0</td>\n",
              "    </tr>\n",
              "    <tr>\n",
              "      <th>Chautauqua</th>\n",
              "      <td>299.0</td>\n",
              "      <td>842.414716</td>\n",
              "      <td>1195.877466</td>\n",
              "      <td>1.0</td>\n",
              "      <td>101.00</td>\n",
              "      <td>278.0</td>\n",
              "      <td>1045.50</td>\n",
              "      <td>5460.0</td>\n",
              "    </tr>\n",
              "    <tr>\n",
              "      <th>Franklin</th>\n",
              "      <td>299.0</td>\n",
              "      <td>152.003344</td>\n",
              "      <td>243.331236</td>\n",
              "      <td>1.0</td>\n",
              "      <td>23.00</td>\n",
              "      <td>56.0</td>\n",
              "      <td>96.00</td>\n",
              "      <td>1103.0</td>\n",
              "    </tr>\n",
              "    <tr>\n",
              "      <th>Cattaraugus</th>\n",
              "      <td>296.0</td>\n",
              "      <td>559.706081</td>\n",
              "      <td>811.986218</td>\n",
              "      <td>1.0</td>\n",
              "      <td>95.75</td>\n",
              "      <td>179.0</td>\n",
              "      <td>571.50</td>\n",
              "      <td>3344.0</td>\n",
              "    </tr>\n",
              "    <tr>\n",
              "      <th>Schuyler</th>\n",
              "      <td>296.0</td>\n",
              "      <td>121.780405</td>\n",
              "      <td>181.047879</td>\n",
              "      <td>1.0</td>\n",
              "      <td>12.00</td>\n",
              "      <td>24.0</td>\n",
              "      <td>164.50</td>\n",
              "      <td>710.0</td>\n",
              "    </tr>\n",
              "    <tr>\n",
              "      <th>Lewis</th>\n",
              "      <td>295.0</td>\n",
              "      <td>183.525424</td>\n",
              "      <td>314.631993</td>\n",
              "      <td>2.0</td>\n",
              "      <td>20.00</td>\n",
              "      <td>47.0</td>\n",
              "      <td>166.00</td>\n",
              "      <td>1451.0</td>\n",
              "    </tr>\n",
              "    <tr>\n",
              "      <th>Unknown</th>\n",
              "      <td>10.0</td>\n",
              "      <td>0.000000</td>\n",
              "      <td>0.000000</td>\n",
              "      <td>0.0</td>\n",
              "      <td>0.00</td>\n",
              "      <td>0.0</td>\n",
              "      <td>0.00</td>\n",
              "      <td>0.0</td>\n",
              "    </tr>\n",
              "    <tr>\n",
              "      <th>Seneca</th>\n",
              "      <td>293.0</td>\n",
              "      <td>192.501706</td>\n",
              "      <td>254.533452</td>\n",
              "      <td>2.0</td>\n",
              "      <td>63.00</td>\n",
              "      <td>95.0</td>\n",
              "      <td>163.00</td>\n",
              "      <td>1203.0</td>\n",
              "    </tr>\n",
              "    <tr>\n",
              "      <th>Yates</th>\n",
              "      <td>291.0</td>\n",
              "      <td>134.975945</td>\n",
              "      <td>173.558107</td>\n",
              "      <td>1.0</td>\n",
              "      <td>39.50</td>\n",
              "      <td>60.0</td>\n",
              "      <td>154.50</td>\n",
              "      <td>795.0</td>\n",
              "    </tr>\n",
              "  </tbody>\n",
              "</table>\n",
              "</div>"
            ],
            "text/plain": [
              "               cases                 ...                     \n",
              "               count           mean  ...        75%       max\n",
              "county                               ...                     \n",
              "New York City  323.0  229800.526316  ...  265792.00  529834.0\n",
              "Westchester    320.0   36928.465625  ...   40584.75   83707.0\n",
              "Nassau         319.0   45239.131661  ...   49924.00  112702.0\n",
              "Rockland       318.0   14931.820755  ...   18088.50   31509.0\n",
              "Saratoga       317.0    1396.539432  ...    1383.00    8984.0\n",
              "Suffolk        316.0   46132.996835  ...   49324.00  125925.0\n",
              "Ulster         316.0    2302.901899  ...    2540.25    7548.0\n",
              "Monroe         313.0    8440.888179  ...    7597.00   43660.0\n",
              "Albany         312.0    3579.506410  ...    3730.50   15981.0\n",
              "Delaware       312.0     194.153846  ...     188.25     990.0\n",
              "Dutchess       312.0    5182.548077  ...    5551.50   16327.0\n",
              "Herkimer       312.0     480.695513  ...     396.75    3528.0\n",
              "Orange         312.0   12068.224359  ...   13859.75   28401.0\n",
              "Schenectady    311.0    1633.154341  ...    1611.00    8480.0\n",
              "Broome         310.0    2372.996774  ...    3731.00   10866.0\n",
              "Tioga          310.0     467.193548  ...     696.50    2167.0\n",
              "Tompkins       310.0     546.580645  ...     654.50    2613.0\n",
              "Erie           309.0   13112.313916  ...   13531.00   51384.0\n",
              "Greene         309.0     429.087379  ...     516.00    1995.0\n",
              "Montgomery     309.0     319.135922  ...     273.00    2167.0\n",
              "Putnam         309.0    1823.336570  ...    1861.00    6386.0\n",
              "Allegany       308.0     383.386364  ...     352.00    2328.0\n",
              "Onondaga       308.0    5792.321429  ...    5770.25   27190.0\n",
              "Ontario        308.0     757.616883  ...     712.75    4647.0\n",
              "Clinton        307.0     282.263844  ...     271.50    2091.0\n",
              "Rensselaer     307.0    1174.228013  ...    1127.50    6693.0\n",
              "Sullivan       307.0    1574.182410  ...    1821.50    3765.0\n",
              "Wyoming        307.0     299.703583  ...     204.00    2114.0\n",
              "Chenango       306.0     352.310458  ...     427.25    1704.0\n",
              "Essex          306.0     171.091503  ...     211.75     967.0\n",
              "Hamilton       306.0      23.823529  ...      19.00     145.0\n",
              "Jefferson      306.0     365.702614  ...     228.75    3094.0\n",
              "Livingston     306.0     408.450980  ...     354.50    2645.0\n",
              "Warren         306.0     418.071895  ...     468.75    2004.0\n",
              "Washington     306.0     328.307190  ...     352.25    1438.0\n",
              "Schoharie      305.0     135.800000  ...     116.00     882.0\n",
              "Wayne          305.0     586.298361  ...     573.00    3606.0\n",
              "Columbia       304.0     646.220395  ...     740.50    2397.0\n",
              "Fulton         304.0     392.703947  ...     367.25    2039.0\n",
              "Genesee        304.0     599.319079  ...     414.75    3630.0\n",
              "Niagara        304.0    2366.404605  ...    2157.75   11822.0\n",
              "Oneida         304.0    3180.953947  ...    2874.25   16502.0\n",
              "Steuben        303.0     866.788779  ...    1120.00    4541.0\n",
              "Cortland       302.0     450.463576  ...     596.50    2604.0\n",
              "Madison        302.0     650.784768  ...     600.00    3073.0\n",
              "St. Lawrence   302.0     538.950331  ...     434.00    3496.0\n",
              "Cayuga         301.0     556.724252  ...     465.00    4310.0\n",
              "Oswego         301.0     777.252492  ...     669.00    4816.0\n",
              "Otsego         301.0     333.345515  ...     422.00    1623.0\n",
              "Chemung        300.0    1148.133333  ...    1929.25    5534.0\n",
              "Orleans        300.0     420.190000  ...     418.75    1898.0\n",
              "Chautauqua     299.0     842.414716  ...    1045.50    5460.0\n",
              "Franklin       299.0     152.003344  ...      96.00    1103.0\n",
              "Cattaraugus    296.0     559.706081  ...     571.50    3344.0\n",
              "Schuyler       296.0     121.780405  ...     164.50     710.0\n",
              "Lewis          295.0     183.525424  ...     166.00    1451.0\n",
              "Unknown         10.0       0.000000  ...       0.00       0.0\n",
              "Seneca         293.0     192.501706  ...     163.00    1203.0\n",
              "Yates          291.0     134.975945  ...     154.50     795.0\n",
              "\n",
              "[59 rows x 8 columns]"
            ]
          },
          "metadata": {
            "tags": []
          },
          "execution_count": 3
        }
      ]
    },
    {
      "cell_type": "code",
      "metadata": {
        "id": "ap0owuu30bLe",
        "colab": {
          "base_uri": "https://localhost:8080/",
          "height": 359
        },
        "outputId": "716a4ec7-8bbd-4ab0-d780-6d8237b527c3"
      },
      "source": [
        "#review NYS Data head\r\n",
        "\r\n",
        "ny_state.head(10)"
      ],
      "execution_count": null,
      "outputs": [
        {
          "output_type": "execute_result",
          "data": {
            "text/html": [
              "<div>\n",
              "<style scoped>\n",
              "    .dataframe tbody tr th:only-of-type {\n",
              "        vertical-align: middle;\n",
              "    }\n",
              "\n",
              "    .dataframe tbody tr th {\n",
              "        vertical-align: top;\n",
              "    }\n",
              "\n",
              "    .dataframe thead th {\n",
              "        text-align: right;\n",
              "    }\n",
              "</style>\n",
              "<table border=\"1\" class=\"dataframe\">\n",
              "  <thead>\n",
              "    <tr style=\"text-align: right;\">\n",
              "      <th></th>\n",
              "      <th>date</th>\n",
              "      <th>state</th>\n",
              "      <th>fips</th>\n",
              "      <th>cases</th>\n",
              "      <th>deaths</th>\n",
              "    </tr>\n",
              "  </thead>\n",
              "  <tbody>\n",
              "    <tr>\n",
              "      <th>246</th>\n",
              "      <td>2020-03-01</td>\n",
              "      <td>New York</td>\n",
              "      <td>36</td>\n",
              "      <td>1</td>\n",
              "      <td>0</td>\n",
              "    </tr>\n",
              "    <tr>\n",
              "      <th>261</th>\n",
              "      <td>2020-03-02</td>\n",
              "      <td>New York</td>\n",
              "      <td>36</td>\n",
              "      <td>1</td>\n",
              "      <td>0</td>\n",
              "    </tr>\n",
              "    <tr>\n",
              "      <th>276</th>\n",
              "      <td>2020-03-03</td>\n",
              "      <td>New York</td>\n",
              "      <td>36</td>\n",
              "      <td>2</td>\n",
              "      <td>0</td>\n",
              "    </tr>\n",
              "    <tr>\n",
              "      <th>293</th>\n",
              "      <td>2020-03-04</td>\n",
              "      <td>New York</td>\n",
              "      <td>36</td>\n",
              "      <td>11</td>\n",
              "      <td>0</td>\n",
              "    </tr>\n",
              "    <tr>\n",
              "      <th>313</th>\n",
              "      <td>2020-03-05</td>\n",
              "      <td>New York</td>\n",
              "      <td>36</td>\n",
              "      <td>22</td>\n",
              "      <td>0</td>\n",
              "    </tr>\n",
              "    <tr>\n",
              "      <th>338</th>\n",
              "      <td>2020-03-06</td>\n",
              "      <td>New York</td>\n",
              "      <td>36</td>\n",
              "      <td>44</td>\n",
              "      <td>0</td>\n",
              "    </tr>\n",
              "    <tr>\n",
              "      <th>369</th>\n",
              "      <td>2020-03-07</td>\n",
              "      <td>New York</td>\n",
              "      <td>36</td>\n",
              "      <td>89</td>\n",
              "      <td>0</td>\n",
              "    </tr>\n",
              "    <tr>\n",
              "      <th>404</th>\n",
              "      <td>2020-03-08</td>\n",
              "      <td>New York</td>\n",
              "      <td>36</td>\n",
              "      <td>106</td>\n",
              "      <td>0</td>\n",
              "    </tr>\n",
              "    <tr>\n",
              "      <th>440</th>\n",
              "      <td>2020-03-09</td>\n",
              "      <td>New York</td>\n",
              "      <td>36</td>\n",
              "      <td>142</td>\n",
              "      <td>0</td>\n",
              "    </tr>\n",
              "    <tr>\n",
              "      <th>478</th>\n",
              "      <td>2020-03-10</td>\n",
              "      <td>New York</td>\n",
              "      <td>36</td>\n",
              "      <td>173</td>\n",
              "      <td>0</td>\n",
              "    </tr>\n",
              "  </tbody>\n",
              "</table>\n",
              "</div>"
            ],
            "text/plain": [
              "           date     state  fips  cases  deaths\n",
              "246  2020-03-01  New York    36      1       0\n",
              "261  2020-03-02  New York    36      1       0\n",
              "276  2020-03-03  New York    36      2       0\n",
              "293  2020-03-04  New York    36     11       0\n",
              "313  2020-03-05  New York    36     22       0\n",
              "338  2020-03-06  New York    36     44       0\n",
              "369  2020-03-07  New York    36     89       0\n",
              "404  2020-03-08  New York    36    106       0\n",
              "440  2020-03-09  New York    36    142       0\n",
              "478  2020-03-10  New York    36    173       0"
            ]
          },
          "metadata": {
            "tags": []
          },
          "execution_count": 24
        }
      ]
    },
    {
      "cell_type": "code",
      "metadata": {
        "id": "zZdaTiUk0fqE",
        "colab": {
          "base_uri": "https://localhost:8080/",
          "height": 359
        },
        "outputId": "990f3f60-48fd-4ee8-96fd-a7ba1429dd11"
      },
      "source": [
        "#review NYS Data head\r\n",
        "\r\n",
        "ny_state.tail(10)"
      ],
      "execution_count": null,
      "outputs": [
        {
          "output_type": "execute_result",
          "data": {
            "text/html": [
              "<div>\n",
              "<style scoped>\n",
              "    .dataframe tbody tr th:only-of-type {\n",
              "        vertical-align: middle;\n",
              "    }\n",
              "\n",
              "    .dataframe tbody tr th {\n",
              "        vertical-align: top;\n",
              "    }\n",
              "\n",
              "    .dataframe thead th {\n",
              "        text-align: right;\n",
              "    }\n",
              "</style>\n",
              "<table border=\"1\" class=\"dataframe\">\n",
              "  <thead>\n",
              "    <tr style=\"text-align: right;\">\n",
              "      <th></th>\n",
              "      <th>date</th>\n",
              "      <th>state</th>\n",
              "      <th>fips</th>\n",
              "      <th>cases</th>\n",
              "      <th>deaths</th>\n",
              "    </tr>\n",
              "  </thead>\n",
              "  <tbody>\n",
              "    <tr>\n",
              "      <th>17097</th>\n",
              "      <td>2021-01-07</td>\n",
              "      <td>New York</td>\n",
              "      <td>36</td>\n",
              "      <td>1082142</td>\n",
              "      <td>38683</td>\n",
              "    </tr>\n",
              "    <tr>\n",
              "      <th>17152</th>\n",
              "      <td>2021-01-08</td>\n",
              "      <td>New York</td>\n",
              "      <td>36</td>\n",
              "      <td>1101702</td>\n",
              "      <td>38846</td>\n",
              "    </tr>\n",
              "    <tr>\n",
              "      <th>17207</th>\n",
              "      <td>2021-01-09</td>\n",
              "      <td>New York</td>\n",
              "      <td>36</td>\n",
              "      <td>1119541</td>\n",
              "      <td>39041</td>\n",
              "    </tr>\n",
              "    <tr>\n",
              "      <th>17262</th>\n",
              "      <td>2021-01-10</td>\n",
              "      <td>New York</td>\n",
              "      <td>36</td>\n",
              "      <td>1135849</td>\n",
              "      <td>39208</td>\n",
              "    </tr>\n",
              "    <tr>\n",
              "      <th>17317</th>\n",
              "      <td>2021-01-11</td>\n",
              "      <td>New York</td>\n",
              "      <td>36</td>\n",
              "      <td>1150028</td>\n",
              "      <td>39404</td>\n",
              "    </tr>\n",
              "    <tr>\n",
              "      <th>17372</th>\n",
              "      <td>2021-01-12</td>\n",
              "      <td>New York</td>\n",
              "      <td>36</td>\n",
              "      <td>1164819</td>\n",
              "      <td>39588</td>\n",
              "    </tr>\n",
              "    <tr>\n",
              "      <th>17427</th>\n",
              "      <td>2021-01-13</td>\n",
              "      <td>New York</td>\n",
              "      <td>36</td>\n",
              "      <td>1179523</td>\n",
              "      <td>39760</td>\n",
              "    </tr>\n",
              "    <tr>\n",
              "      <th>17482</th>\n",
              "      <td>2021-01-14</td>\n",
              "      <td>New York</td>\n",
              "      <td>36</td>\n",
              "      <td>1193710</td>\n",
              "      <td>39997</td>\n",
              "    </tr>\n",
              "    <tr>\n",
              "      <th>17537</th>\n",
              "      <td>2021-01-15</td>\n",
              "      <td>New York</td>\n",
              "      <td>36</td>\n",
              "      <td>1213179</td>\n",
              "      <td>40203</td>\n",
              "    </tr>\n",
              "    <tr>\n",
              "      <th>17592</th>\n",
              "      <td>2021-01-16</td>\n",
              "      <td>New York</td>\n",
              "      <td>36</td>\n",
              "      <td>1229124</td>\n",
              "      <td>40376</td>\n",
              "    </tr>\n",
              "  </tbody>\n",
              "</table>\n",
              "</div>"
            ],
            "text/plain": [
              "             date     state  fips    cases  deaths\n",
              "17097  2021-01-07  New York    36  1082142   38683\n",
              "17152  2021-01-08  New York    36  1101702   38846\n",
              "17207  2021-01-09  New York    36  1119541   39041\n",
              "17262  2021-01-10  New York    36  1135849   39208\n",
              "17317  2021-01-11  New York    36  1150028   39404\n",
              "17372  2021-01-12  New York    36  1164819   39588\n",
              "17427  2021-01-13  New York    36  1179523   39760\n",
              "17482  2021-01-14  New York    36  1193710   39997\n",
              "17537  2021-01-15  New York    36  1213179   40203\n",
              "17592  2021-01-16  New York    36  1229124   40376"
            ]
          },
          "metadata": {
            "tags": []
          },
          "execution_count": 25
        }
      ]
    },
    {
      "cell_type": "markdown",
      "metadata": {
        "id": "dXToiyPccf4h"
      },
      "source": [
        "# Task 3 : Data Wrangling and EDA (Exploratory Data Analysis)"
      ]
    },
    {
      "cell_type": "markdown",
      "metadata": {
        "id": "XrywUhma1LD6"
      },
      "source": [
        "**1. Analyzing New York state data for Covid 19**"
      ]
    },
    {
      "cell_type": "code",
      "metadata": {
        "colab": {
          "base_uri": "https://localhost:8080/",
          "height": 567
        },
        "id": "t8zUz1N7T8Gh",
        "outputId": "421ad0c5-9ece-4dde-eee8-f657bf4347ce"
      },
      "source": [
        "sns.pairplot(ny_state)\r\n"
      ],
      "execution_count": null,
      "outputs": [
        {
          "output_type": "execute_result",
          "data": {
            "text/plain": [
              "<seaborn.axisgrid.PairGrid at 0x7f40376e1c88>"
            ]
          },
          "metadata": {
            "tags": []
          },
          "execution_count": 3
        },
        {
          "output_type": "display_data",
          "data": {
            "image/png": "[encoded data removed]",
            "text/plain": [
              "<Figure size 540x540 with 12 Axes>"
            ]
          },
          "metadata": {
            "tags": [],
            "needs_background": "light"
          }
        }
      ]
    },
    {
      "cell_type": "code",
      "metadata": {
        "colab": {
          "base_uri": "https://localhost:8080/",
          "height": 293
        },
        "id": "EXOgiBU_Zbb-",
        "outputId": "12d76e31-f749-4f40-dc26-49840bb24fc0"
      },
      "source": [
        "ny_state.plot()"
      ],
      "execution_count": null,
      "outputs": [
        {
          "output_type": "execute_result",
          "data": {
            "text/plain": [
              "<matplotlib.axes._subplots.AxesSubplot at 0x7fb1b8ba2630>"
            ]
          },
          "metadata": {
            "tags": []
          },
          "execution_count": 40
        },
        {
          "output_type": "display_data",
          "data": {
            "image/png": "[encoded data removed]",
            "text/plain": [
              "<Figure size 432x288 with 1 Axes>"
            ]
          },
          "metadata": {
            "tags": [],
            "needs_background": "light"
          }
        }
      ]
    },
    {
      "cell_type": "code",
      "metadata": {
        "colab": {
          "base_uri": "https://localhost:8080/",
          "height": 458
        },
        "id": "-dmB93C1dRGt",
        "outputId": "4d48195f-e392-4bf6-b1a2-fb983294714e"
      },
      "source": [
        "sns.jointplot(x='date', y='cases', data=ny_state, color='red')"
      ],
      "execution_count": null,
      "outputs": [
        {
          "output_type": "execute_result",
          "data": {
            "text/plain": [
              "<seaborn.axisgrid.JointGrid at 0x7fb1b755b6a0>"
            ]
          },
          "metadata": {
            "tags": []
          },
          "execution_count": 44
        },
        {
          "output_type": "display_data",
          "data": {
            "image/png": "[encoded data removed]",
            "text/plain": [
              "<Figure size 432x432 with 3 Axes>"
            ]
          },
          "metadata": {
            "tags": [],
            "needs_background": "light"
          }
        }
      ]
    },
    {
      "cell_type": "code",
      "metadata": {
        "colab": {
          "base_uri": "https://localhost:8080/",
          "height": 458
        },
        "id": "4uppJD3_bavF",
        "outputId": "00c9903e-6b4b-4202-c29f-693100225c95"
      },
      "source": [
        "sns.jointplot(x='date', y='deaths', data=ny_state, color='red')"
      ],
      "execution_count": null,
      "outputs": [
        {
          "output_type": "execute_result",
          "data": {
            "text/plain": [
              "<seaborn.axisgrid.JointGrid at 0x7fb1b24d9208>"
            ]
          },
          "metadata": {
            "tags": []
          },
          "execution_count": 66
        },
        {
          "output_type": "display_data",
          "data": {
            "image/png": "[encoded data removed]",
            "text/plain": [
              "<Figure size 432x432 with 3 Axes>"
            ]
          },
          "metadata": {
            "tags": [],
            "needs_background": "light"
          }
        }
      ]
    },
    {
      "cell_type": "markdown",
      "metadata": {
        "id": "vUbZP5tccvEp"
      },
      "source": [
        "**2. Find new covid 19 cases daily basis (new cases added everyday)**"
      ]
    },
    {
      "cell_type": "code",
      "metadata": {
        "colab": {
          "base_uri": "https://localhost:8080/"
        },
        "id": "KNx3zvpvVYMw",
        "outputId": "a4505972-6037-429e-fec7-ba383358f40f"
      },
      "source": [
        "#filter cases for last 30 days to print daily infection total\r\n",
        "ny_date0=ny_state\r\n",
        "ny_date0=ny_date0[(ny_date0['date']<='2021-01-16') & (ny_date0['date']>='2020-12-15')]\r\n",
        "infection=ny_date0['cases'] - ny_date0['cases'].shift()\r\n",
        "rate=0\r\n",
        "d=ny_date0.date.values\r\n",
        "\r\n",
        "for rate in range(len(ny_date0)):\r\n",
        "    total=infection.values[rate]\r\n",
        "    print('On date:',d[rate],'the were:',total,'new infections')\r\n"
      ],
      "execution_count": 130,
      "outputs": [
        {
          "output_type": "stream",
          "text": [
            "On date: 2020-12-15 the were: nan new infections\n",
            "On date: 2020-12-16 the were: 9378.0 new infections\n",
            "On date: 2020-12-17 the were: 10498.0 new infections\n",
            "On date: 2020-12-18 the were: 12606.0 new infections\n",
            "On date: 2020-12-19 the were: 9913.0 new infections\n",
            "On date: 2020-12-20 the were: 9454.0 new infections\n",
            "On date: 2020-12-21 the were: 9456.0 new infections\n",
            "On date: 2020-12-22 the were: 10299.0 new infections\n",
            "On date: 2020-12-23 the were: 11740.0 new infections\n",
            "On date: 2020-12-24 the were: 13347.0 new infections\n",
            "On date: 2020-12-25 the were: 12881.0 new infections\n",
            "On date: 2020-12-26 the were: 11048.0 new infections\n",
            "On date: 2020-12-27 the were: 8205.0 new infections\n",
            "On date: 2020-12-28 the were: 10334.0 new infections\n",
            "On date: 2020-12-29 the were: 12020.0 new infections\n",
            "On date: 2020-12-30 the were: 12917.0 new infections\n",
            "On date: 2020-12-31 the were: 15393.0 new infections\n",
            "On date: 2021-01-01 the were: 17033.0 new infections\n",
            "On date: 2021-01-02 the were: 15849.0 new infections\n",
            "On date: 2021-01-03 the were: 12232.0 new infections\n",
            "On date: 2021-01-04 the were: 11242.0 new infections\n",
            "On date: 2021-01-05 the were: 13142.0 new infections\n",
            "On date: 2021-01-06 the were: 16016.0 new infections\n",
            "On date: 2021-01-07 the were: 17588.0 new infections\n",
            "On date: 2021-01-08 the were: 19560.0 new infections\n",
            "On date: 2021-01-09 the were: 17839.0 new infections\n",
            "On date: 2021-01-10 the were: 16308.0 new infections\n",
            "On date: 2021-01-11 the were: 14179.0 new infections\n",
            "On date: 2021-01-12 the were: 14791.0 new infections\n",
            "On date: 2021-01-13 the were: 14704.0 new infections\n",
            "On date: 2021-01-14 the were: 14187.0 new infections\n",
            "On date: 2021-01-15 the were: 19469.0 new infections\n",
            "On date: 2021-01-16 the were: 15945.0 new infections\n"
          ],
          "name": "stdout"
        }
      ]
    },
    {
      "cell_type": "markdown",
      "metadata": {
        "id": "IKuLfv3SF27O"
      },
      "source": [
        "# Task4: Understand NY covid 19 data in last 30 days"
      ]
    },
    {
      "cell_type": "code",
      "metadata": {
        "id": "280y4sHrAyuk",
        "colab": {
          "base_uri": "https://localhost:8080/",
          "height": 297
        },
        "outputId": "d7dc7560-ad1f-4e60-f1ee-bce1e5ea97ad"
      },
      "source": [
        "ny_date=ny_state\r\n",
        "ny_date=ny_date[(ny_date['date']<='2021-01-16') & (ny_date['date']>='2020-12-16')]\r\n",
        "ny_date.describe()\r\n"
      ],
      "execution_count": 138,
      "outputs": [
        {
          "output_type": "execute_result",
          "data": {
            "text/html": [
              "<div>\n",
              "<style scoped>\n",
              "    .dataframe tbody tr th:only-of-type {\n",
              "        vertical-align: middle;\n",
              "    }\n",
              "\n",
              "    .dataframe tbody tr th {\n",
              "        vertical-align: top;\n",
              "    }\n",
              "\n",
              "    .dataframe thead th {\n",
              "        text-align: right;\n",
              "    }\n",
              "</style>\n",
              "<table border=\"1\" class=\"dataframe\">\n",
              "  <thead>\n",
              "    <tr style=\"text-align: right;\">\n",
              "      <th></th>\n",
              "      <th>fips</th>\n",
              "      <th>cases</th>\n",
              "      <th>deaths</th>\n",
              "    </tr>\n",
              "  </thead>\n",
              "  <tbody>\n",
              "    <tr>\n",
              "      <th>count</th>\n",
              "      <td>32.0</td>\n",
              "      <td>3.200000e+01</td>\n",
              "      <td>32.000000</td>\n",
              "    </tr>\n",
              "    <tr>\n",
              "      <th>mean</th>\n",
              "      <td>36.0</td>\n",
              "      <td>1.000154e+06</td>\n",
              "      <td>37749.281250</td>\n",
              "    </tr>\n",
              "    <tr>\n",
              "      <th>std</th>\n",
              "      <td>0.0</td>\n",
              "      <td>1.280447e+05</td>\n",
              "      <td>1455.050542</td>\n",
              "    </tr>\n",
              "    <tr>\n",
              "      <th>min</th>\n",
              "      <td>36.0</td>\n",
              "      <td>8.089290e+05</td>\n",
              "      <td>35522.000000</td>\n",
              "    </tr>\n",
              "    <tr>\n",
              "      <th>25%</th>\n",
              "      <td>36.0</td>\n",
              "      <td>8.929052e+05</td>\n",
              "      <td>36566.500000</td>\n",
              "    </tr>\n",
              "    <tr>\n",
              "      <th>50%</th>\n",
              "      <td>36.0</td>\n",
              "      <td>9.875565e+05</td>\n",
              "      <td>37645.000000</td>\n",
              "    </tr>\n",
              "    <tr>\n",
              "      <th>75%</th>\n",
              "      <td>36.0</td>\n",
              "      <td>1.106162e+06</td>\n",
              "      <td>38894.750000</td>\n",
              "    </tr>\n",
              "    <tr>\n",
              "      <th>max</th>\n",
              "      <td>36.0</td>\n",
              "      <td>1.229124e+06</td>\n",
              "      <td>40376.000000</td>\n",
              "    </tr>\n",
              "  </tbody>\n",
              "</table>\n",
              "</div>"
            ],
            "text/plain": [
              "       fips         cases        deaths\n",
              "count  32.0  3.200000e+01     32.000000\n",
              "mean   36.0  1.000154e+06  37749.281250\n",
              "std     0.0  1.280447e+05   1455.050542\n",
              "min    36.0  8.089290e+05  35522.000000\n",
              "25%    36.0  8.929052e+05  36566.500000\n",
              "50%    36.0  9.875565e+05  37645.000000\n",
              "75%    36.0  1.106162e+06  38894.750000\n",
              "max    36.0  1.229124e+06  40376.000000"
            ]
          },
          "metadata": {
            "tags": []
          },
          "execution_count": 138
        }
      ]
    },
    {
      "cell_type": "code",
      "metadata": {
        "colab": {
          "base_uri": "https://localhost:8080/",
          "height": 458
        },
        "id": "OLTos6-GhDIR",
        "outputId": "f95aef0c-6645-44e1-ad3b-27c5635ce7ef"
      },
      "source": [
        "sns.jointplot(x='date', y='cases', data=ny_date, color='red')"
      ],
      "execution_count": 137,
      "outputs": [
        {
          "output_type": "execute_result",
          "data": {
            "text/plain": [
              "<seaborn.axisgrid.JointGrid at 0x7f2515910c88>"
            ]
          },
          "metadata": {
            "tags": []
          },
          "execution_count": 137
        },
        {
          "output_type": "display_data",
          "data": {
            "image/png": "[encoded data removed]",
            "text/plain": [
              "<Figure size 432x432 with 3 Axes>"
            ]
          },
          "metadata": {
            "tags": [],
            "needs_background": "light"
          }
        }
      ]
    },
    {
      "cell_type": "code",
      "metadata": {
        "id": "BUDcyVRwHY6F",
        "colab": {
          "base_uri": "https://localhost:8080/",
          "height": 458
        },
        "outputId": "cb47a82f-d488-4a10-e41f-33c249f2d1cb"
      },
      "source": [
        "sns.jointplot(x='date', y='deaths', data=ny_date, color='red')"
      ],
      "execution_count": 136,
      "outputs": [
        {
          "output_type": "execute_result",
          "data": {
            "text/plain": [
              "<seaborn.axisgrid.JointGrid at 0x7f251e6bfd68>"
            ]
          },
          "metadata": {
            "tags": []
          },
          "execution_count": 136
        },
        {
          "output_type": "display_data",
          "data": {
            "image/png": "[encoded data removed]",
            "text/plain": [
              "<Figure size 432x432 with 3 Axes>"
            ]
          },
          "metadata": {
            "tags": [],
            "needs_background": "light"
          }
        }
      ]
    },
    {
      "cell_type": "markdown",
      "metadata": {
        "id": "PtjNZZmOdAhy"
      },
      "source": [
        "# Task5: Comparing Covid 19 data with different states"
      ]
    },
    {
      "cell_type": "markdown",
      "metadata": {
        "id": "HInHQMh0dHvu"
      },
      "source": [
        "**Let's compare the Covid 19 cases after July for states: New York, California, Florida, Texas, Arizona**"
      ]
    },
    {
      "cell_type": "code",
      "metadata": {
        "id": "vu_eV2RmHvyO",
        "colab": {
          "base_uri": "https://localhost:8080/",
          "height": 419
        },
        "outputId": "26ccab0c-0324-4c33-f929-02b6a58675c3"
      },
      "source": [
        "frame=(ny_state,fl,ca,az,tx)\r\n",
        "state_comp=pd.concat(frame)\r\n",
        "state_comp\r\n",
        "\r\n"
      ],
      "execution_count": 139,
      "outputs": [
        {
          "output_type": "execute_result",
          "data": {
            "text/html": [
              "<div>\n",
              "<style scoped>\n",
              "    .dataframe tbody tr th:only-of-type {\n",
              "        vertical-align: middle;\n",
              "    }\n",
              "\n",
              "    .dataframe tbody tr th {\n",
              "        vertical-align: top;\n",
              "    }\n",
              "\n",
              "    .dataframe thead th {\n",
              "        text-align: right;\n",
              "    }\n",
              "</style>\n",
              "<table border=\"1\" class=\"dataframe\">\n",
              "  <thead>\n",
              "    <tr style=\"text-align: right;\">\n",
              "      <th></th>\n",
              "      <th>date</th>\n",
              "      <th>state</th>\n",
              "      <th>fips</th>\n",
              "      <th>cases</th>\n",
              "      <th>deaths</th>\n",
              "    </tr>\n",
              "  </thead>\n",
              "  <tbody>\n",
              "    <tr>\n",
              "      <th>246</th>\n",
              "      <td>2020-03-01</td>\n",
              "      <td>New York</td>\n",
              "      <td>36</td>\n",
              "      <td>1</td>\n",
              "      <td>0</td>\n",
              "    </tr>\n",
              "    <tr>\n",
              "      <th>261</th>\n",
              "      <td>2020-03-02</td>\n",
              "      <td>New York</td>\n",
              "      <td>36</td>\n",
              "      <td>1</td>\n",
              "      <td>0</td>\n",
              "    </tr>\n",
              "    <tr>\n",
              "      <th>276</th>\n",
              "      <td>2020-03-03</td>\n",
              "      <td>New York</td>\n",
              "      <td>36</td>\n",
              "      <td>2</td>\n",
              "      <td>0</td>\n",
              "    </tr>\n",
              "    <tr>\n",
              "      <th>293</th>\n",
              "      <td>2020-03-04</td>\n",
              "      <td>New York</td>\n",
              "      <td>36</td>\n",
              "      <td>11</td>\n",
              "      <td>0</td>\n",
              "    </tr>\n",
              "    <tr>\n",
              "      <th>313</th>\n",
              "      <td>2020-03-05</td>\n",
              "      <td>New York</td>\n",
              "      <td>36</td>\n",
              "      <td>22</td>\n",
              "      <td>0</td>\n",
              "    </tr>\n",
              "    <tr>\n",
              "      <th>...</th>\n",
              "      <td>...</td>\n",
              "      <td>...</td>\n",
              "      <td>...</td>\n",
              "      <td>...</td>\n",
              "      <td>...</td>\n",
              "    </tr>\n",
              "    <tr>\n",
              "      <th>17440</th>\n",
              "      <td>2021-01-13</td>\n",
              "      <td>Texas</td>\n",
              "      <td>48</td>\n",
              "      <td>2042009</td>\n",
              "      <td>31396</td>\n",
              "    </tr>\n",
              "    <tr>\n",
              "      <th>17495</th>\n",
              "      <td>2021-01-14</td>\n",
              "      <td>Texas</td>\n",
              "      <td>48</td>\n",
              "      <td>2071932</td>\n",
              "      <td>31819</td>\n",
              "    </tr>\n",
              "    <tr>\n",
              "      <th>17550</th>\n",
              "      <td>2021-01-15</td>\n",
              "      <td>Texas</td>\n",
              "      <td>48</td>\n",
              "      <td>2096526</td>\n",
              "      <td>32212</td>\n",
              "    </tr>\n",
              "    <tr>\n",
              "      <th>17605</th>\n",
              "      <td>2021-01-16</td>\n",
              "      <td>Texas</td>\n",
              "      <td>48</td>\n",
              "      <td>2114858</td>\n",
              "      <td>32581</td>\n",
              "    </tr>\n",
              "    <tr>\n",
              "      <th>17660</th>\n",
              "      <td>2021-01-17</td>\n",
              "      <td>Texas</td>\n",
              "      <td>48</td>\n",
              "      <td>2127334</td>\n",
              "      <td>32747</td>\n",
              "    </tr>\n",
              "  </tbody>\n",
              "</table>\n",
              "<p>1704 rows × 5 columns</p>\n",
              "</div>"
            ],
            "text/plain": [
              "             date     state  fips    cases  deaths\n",
              "246    2020-03-01  New York    36        1       0\n",
              "261    2020-03-02  New York    36        1       0\n",
              "276    2020-03-03  New York    36        2       0\n",
              "293    2020-03-04  New York    36       11       0\n",
              "313    2020-03-05  New York    36       22       0\n",
              "...           ...       ...   ...      ...     ...\n",
              "17440  2021-01-13     Texas    48  2042009   31396\n",
              "17495  2021-01-14     Texas    48  2071932   31819\n",
              "17550  2021-01-15     Texas    48  2096526   32212\n",
              "17605  2021-01-16     Texas    48  2114858   32581\n",
              "17660  2021-01-17     Texas    48  2127334   32747\n",
              "\n",
              "[1704 rows x 5 columns]"
            ]
          },
          "metadata": {
            "tags": []
          },
          "execution_count": 139
        }
      ]
    },
    {
      "cell_type": "code",
      "metadata": {
        "id": "2xVCN1IBInu0",
        "colab": {
          "base_uri": "https://localhost:8080/",
          "height": 266
        },
        "outputId": "1d1780d9-6c40-4ced-9952-5fb5339b43ca"
      },
      "source": [
        "state_date=state_comp\n",
        "state_date=state_date[(state_date['date']<='2021-01-16') & (state_date['date']>='2020-07-01')]\n",
        "state_date.groupby(['state'], sort=False)[['cases']].describe()\n"
      ],
      "execution_count": 140,
      "outputs": [
        {
          "output_type": "execute_result",
          "data": {
            "text/html": [
              "<div>\n",
              "<style scoped>\n",
              "    .dataframe tbody tr th:only-of-type {\n",
              "        vertical-align: middle;\n",
              "    }\n",
              "\n",
              "    .dataframe tbody tr th {\n",
              "        vertical-align: top;\n",
              "    }\n",
              "\n",
              "    .dataframe thead tr th {\n",
              "        text-align: left;\n",
              "    }\n",
              "\n",
              "    .dataframe thead tr:last-of-type th {\n",
              "        text-align: right;\n",
              "    }\n",
              "</style>\n",
              "<table border=\"1\" class=\"dataframe\">\n",
              "  <thead>\n",
              "    <tr>\n",
              "      <th></th>\n",
              "      <th colspan=\"8\" halign=\"left\">cases</th>\n",
              "    </tr>\n",
              "    <tr>\n",
              "      <th></th>\n",
              "      <th>count</th>\n",
              "      <th>mean</th>\n",
              "      <th>std</th>\n",
              "      <th>min</th>\n",
              "      <th>25%</th>\n",
              "      <th>50%</th>\n",
              "      <th>75%</th>\n",
              "      <th>max</th>\n",
              "    </tr>\n",
              "    <tr>\n",
              "      <th>state</th>\n",
              "      <th></th>\n",
              "      <th></th>\n",
              "      <th></th>\n",
              "      <th></th>\n",
              "      <th></th>\n",
              "      <th></th>\n",
              "      <th></th>\n",
              "      <th></th>\n",
              "    </tr>\n",
              "  </thead>\n",
              "  <tbody>\n",
              "    <tr>\n",
              "      <th>New York</th>\n",
              "      <td>200.0</td>\n",
              "      <td>573784.430</td>\n",
              "      <td>212028.127064</td>\n",
              "      <td>398770.0</td>\n",
              "      <td>432373.25</td>\n",
              "      <td>475625.5</td>\n",
              "      <td>634655.00</td>\n",
              "      <td>1229124.0</td>\n",
              "    </tr>\n",
              "    <tr>\n",
              "      <th>Florida</th>\n",
              "      <td>200.0</td>\n",
              "      <td>782872.885</td>\n",
              "      <td>328105.572357</td>\n",
              "      <td>158989.0</td>\n",
              "      <td>587455.25</td>\n",
              "      <td>727459.0</td>\n",
              "      <td>980581.25</td>\n",
              "      <td>1560178.0</td>\n",
              "    </tr>\n",
              "    <tr>\n",
              "      <th>California</th>\n",
              "      <td>200.0</td>\n",
              "      <td>1046375.090</td>\n",
              "      <td>651800.183471</td>\n",
              "      <td>239764.0</td>\n",
              "      <td>651736.25</td>\n",
              "      <td>849306.0</td>\n",
              "      <td>1196372.75</td>\n",
              "      <td>2974966.0</td>\n",
              "    </tr>\n",
              "    <tr>\n",
              "      <th>Arizona</th>\n",
              "      <td>200.0</td>\n",
              "      <td>274762.015</td>\n",
              "      <td>135891.255669</td>\n",
              "      <td>84152.0</td>\n",
              "      <td>196120.75</td>\n",
              "      <td>223754.0</td>\n",
              "      <td>319714.75</td>\n",
              "      <td>670234.0</td>\n",
              "    </tr>\n",
              "    <tr>\n",
              "      <th>Texas</th>\n",
              "      <td>200.0</td>\n",
              "      <td>930968.555</td>\n",
              "      <td>490087.513205</td>\n",
              "      <td>174826.0</td>\n",
              "      <td>586580.75</td>\n",
              "      <td>823986.5</td>\n",
              "      <td>1230155.50</td>\n",
              "      <td>2114858.0</td>\n",
              "    </tr>\n",
              "  </tbody>\n",
              "</table>\n",
              "</div>"
            ],
            "text/plain": [
              "            cases                              ...                                 \n",
              "            count         mean            std  ...       50%         75%        max\n",
              "state                                          ...                                 \n",
              "New York    200.0   573784.430  212028.127064  ...  475625.5   634655.00  1229124.0\n",
              "Florida     200.0   782872.885  328105.572357  ...  727459.0   980581.25  1560178.0\n",
              "California  200.0  1046375.090  651800.183471  ...  849306.0  1196372.75  2974966.0\n",
              "Arizona     200.0   274762.015  135891.255669  ...  223754.0   319714.75   670234.0\n",
              "Texas       200.0   930968.555  490087.513205  ...  823986.5  1230155.50  2114858.0\n",
              "\n",
              "[5 rows x 8 columns]"
            ]
          },
          "metadata": {
            "tags": []
          },
          "execution_count": 140
        }
      ]
    },
    {
      "cell_type": "code",
      "metadata": {
        "colab": {
          "base_uri": "https://localhost:8080/",
          "height": 307
        },
        "id": "e8j0Uf-5os-l",
        "outputId": "b3d138ee-b0a5-4241-80a9-05ef32ff55df"
      },
      "source": [
        "sns.pointplot(x='date', y='cases', data=state_date,hue=\"state\")"
      ],
      "execution_count": 141,
      "outputs": [
        {
          "output_type": "execute_result",
          "data": {
            "text/plain": [
              "<matplotlib.axes._subplots.AxesSubplot at 0x7f25156a6a58>"
            ]
          },
          "metadata": {
            "tags": []
          },
          "execution_count": 141
        },
        {
          "output_type": "display_data",
          "data": {
            "image/png": "[encoded data removed]",
            "text/plain": [
              "<Figure size 432x288 with 1 Axes>"
            ]
          },
          "metadata": {
            "tags": [],
            "needs_background": "light"
          }
        }
      ]
    },
    {
      "cell_type": "code",
      "metadata": {
        "colab": {
          "base_uri": "https://localhost:8080/",
          "height": 296
        },
        "id": "_d-ryXZei7JD",
        "outputId": "a9b309ce-7d1e-4f15-e265-8096b42a61bf"
      },
      "source": [
        "sns.pointplot(x='date', y='deaths', data=state_date,hue=\"state\")\r\n"
      ],
      "execution_count": 142,
      "outputs": [
        {
          "output_type": "execute_result",
          "data": {
            "text/plain": [
              "<matplotlib.axes._subplots.AxesSubplot at 0x7f25148f8828>"
            ]
          },
          "metadata": {
            "tags": []
          },
          "execution_count": 142
        },
        {
          "output_type": "display_data",
          "data": {
            "image/png": "[encoded data removed]",
            "text/plain": [
              "<Figure size 432x288 with 1 Axes>"
            ]
          },
          "metadata": {
            "tags": [],
            "needs_background": "light"
          }
        }
      ]
    },
    {
      "cell_type": "markdown",
      "metadata": {
        "id": "Hwch-J5PIHA1"
      },
      "source": [
        "# Task6: Conclusion"
      ]
    },
    {
      "cell_type": "markdown",
      "metadata": {
        "id": "q5G5KP6CINBS"
      },
      "source": [
        "Below are the conclusions:\r\n",
        "\r\n",
        "1.   Conclusion 1\r\n",
        "     As of January 16th New York State had a total of 1,229,124 COVID 19 cases and 40,376 deaths. The highest count of cases are in New York City with 524,231 and the lowest being Hamilton County with only 145. Looking at the pair plot graph we see that there is a collation between the increase in cases and death. Initially, there was a high relation between the increase in cases and the increase in deaths, but over time, that relationship decreased, where a 10% increase in cases didn't mean a 10% increase in death,this can be caused by the advancements in treating the virus. Looking at the graph of the cases by date, we see a high initial increase in cases and deaths, as we transition to the summer dates we see a decrease in case and death rate decrease.eventually the rate increases again at the end of summer. Looking at the last 30 days, we see that the case of infection in New York increased from 808k to 1.229 million cases. This shows a 52% increase in cases. At the same time we see that deaths increased from 35,522 to 40376. This shows a 14% increase in deaths. This again validates my first point that there is a collation between the cases infection rate and death rate, but they are not related directly.\r\n",
        "\r\n",
        "2.   Conclusion 2\r\n",
        "     For the second analyst, I compared the states of New York, Florida, Texas, Arizona and California. The filtered the data for July, 01st, 2020 to January 16th, 2021. When looking at this data we see initially, the state of New York had the highest cases of infections and death. New York continues to  be the state with the highest total death, with California in second and Texas in third. Where we see a change is total cases. Looking from July till January, we see that New York moved from the highest total cases, to the second lowest of the five states. California now has the highest total cases count, outpacing Texas by more than 40%.\r\n",
        "\r\n"
      ]
    },
    {
      "cell_type": "code",
      "metadata": {
        "id": "GCwtlBzLB9CU"
      },
      "source": [
        ""
      ],
      "execution_count": null,
      "outputs": []
    }
  ]
}