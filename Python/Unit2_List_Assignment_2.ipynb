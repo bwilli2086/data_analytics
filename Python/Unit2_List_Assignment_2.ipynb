{
  "nbformat": 4,
  "nbformat_minor": 0,
  "metadata": {
    "colab": {
      "name": "Unit2_List_Assignment_2.ipynb",
      "provenance": [],
      "collapsed_sections": [],
      "toc_visible": true,
      "include_colab_link": true
    },
    "kernelspec": {
      "name": "python3",
      "display_name": "Python 3"
    }
  },
  "cells": [
    {
      "cell_type": "markdown",
      "metadata": {
        "id": "view-in-github",
        "colab_type": "text"
      },
      "source": [
        "<a href=\"https://colab.research.google.com/github/bwilli2086/data_analytics/blob/main/Unit2_List_Assignment_2.ipynb\" target=\"_parent\"><img src=\"https://colab.research.google.com/assets/colab-badge.svg\" alt=\"Open In Colab\"/></a>"
      ]
    },
    {
      "cell_type": "markdown",
      "metadata": {
        "id": "Vgs8Kp4TidFQ"
      },
      "source": [
        "# Intrdouction to Python - List - Assingment #2  "
      ]
    },
    {
      "cell_type": "markdown",
      "metadata": {
        "id": "_Hq7Ny79iwgD"
      },
      "source": [
        "## 1.Create a list of 5 of your favorite tv shows.  ?"
      ]
    },
    {
      "cell_type": "code",
      "metadata": {
        "id": "lotvpVpvlKsR"
      },
      "source": [
        "shows=[\"South Park\",\"Young Sheldon\",\"This Old House\",\"Simpsons\",\"Big Bang Theory\"]"
      ],
      "execution_count": null,
      "outputs": []
    },
    {
      "cell_type": "code",
      "metadata": {
        "id": "oNXY-CfrlLbE"
      },
      "source": [
        ""
      ],
      "execution_count": null,
      "outputs": []
    },
    {
      "cell_type": "markdown",
      "metadata": {
        "id": "io_27RSlizno"
      },
      "source": [
        "## 2.\tPrint the list in its original order"
      ]
    },
    {
      "cell_type": "code",
      "metadata": {
        "id": "Dh1o5cAylSHB",
        "colab": {
          "base_uri": "https://localhost:8080/"
        },
        "outputId": "4522dd3d-bfb6-4e10-eb65-fa13625182bb"
      },
      "source": [
        "shows=[\"South Park\",\"Young Sheldon\",\"This Old House\",\"Simpsons\",\"Big Bang Theory\"]\r\n",
        "print(shows)"
      ],
      "execution_count": null,
      "outputs": [
        {
          "output_type": "stream",
          "text": [
            "['South Park', 'Young Sheldon', 'This Old House', 'Simpsons', 'Big Bang Theory']\n"
          ],
          "name": "stdout"
        }
      ]
    },
    {
      "cell_type": "code",
      "metadata": {
        "id": "vs8ppR-wlSKL"
      },
      "source": [
        ""
      ],
      "execution_count": null,
      "outputs": []
    },
    {
      "cell_type": "markdown",
      "metadata": {
        "id": "DAW8m8IQjRyR"
      },
      "source": [
        "## 3.\tUse the sorted() function to print the list in alphabetical order.  How is sorted() different from sort()?"
      ]
    },
    {
      "cell_type": "code",
      "metadata": {
        "id": "guULMEhrjYtT",
        "colab": {
          "base_uri": "https://localhost:8080/"
        },
        "outputId": "b66091bd-c97f-4e6e-ae26-aba05c973ddb"
      },
      "source": [
        "shows=[\"South Park\",\"Young Sheldon\",\"This Old House\",\"Simpsons\",\"Big Bang Theory\"]\r\n",
        "order=sorted(shows)\r\n",
        "print(order)\r\n"
      ],
      "execution_count": null,
      "outputs": [
        {
          "output_type": "stream",
          "text": [
            "['Big Bang Theory', 'Simpsons', 'South Park', 'This Old House', 'Young Sheldon']\n",
            "['South Park', 'Young Sheldon', 'This Old House', 'Simpsons', 'Big Bang Theory']\n"
          ],
          "name": "stdout"
        }
      ]
    },
    {
      "cell_type": "code",
      "metadata": {
        "id": "cv946RaOjw-G",
        "colab": {
          "base_uri": "https://localhost:8080/"
        },
        "outputId": "d0602140-8b2f-47f7-bc21-50146ba7c21a"
      },
      "source": [
        "shows=[\"South Park\",\"Young Sheldon\",\"This Old House\",\"Simpsons\",\"Big Bang Theory\"]\r\n",
        "shows.sort()\r\n",
        "print(order)\r\n"
      ],
      "execution_count": null,
      "outputs": [
        {
          "output_type": "stream",
          "text": [
            "['Big Bang Theory', 'Simpsons', 'South Park', 'This Old House', 'Young Sheldon']\n",
            "['Big Bang Theory', 'Simpsons', 'South Park', 'This Old House', 'Young Sheldon']\n"
          ],
          "name": "stdout"
        }
      ]
    },
    {
      "cell_type": "markdown",
      "metadata": {
        "id": "dpa_YOt4jXyo"
      },
      "source": [
        "## 4.\tPrint out your original list."
      ]
    },
    {
      "cell_type": "code",
      "metadata": {
        "id": "pltxfnh3iJLW"
      },
      "source": [
        "shows=[\"South Park\",\"Young Sheldon\",\"This Old House\",\"Simpsons\",\"Big Bang Theory\"]\r\n",
        "print(shows)"
      ],
      "execution_count": null,
      "outputs": []
    },
    {
      "cell_type": "code",
      "metadata": {
        "id": "PzH5Rcn-jwPL"
      },
      "source": [
        ""
      ],
      "execution_count": null,
      "outputs": []
    },
    {
      "cell_type": "markdown",
      "metadata": {
        "id": "Ka84RGy4jmLT"
      },
      "source": [
        "## 5.\tUsed sorted() to print your list in reverse alphabetical order."
      ]
    },
    {
      "cell_type": "code",
      "metadata": {
        "id": "34IFFtK4jrg4",
        "colab": {
          "base_uri": "https://localhost:8080/"
        },
        "outputId": "70d5f54a-dca2-405b-9399-ab983296dfaf"
      },
      "source": [
        "shows=[\"South Park\",\"Young Sheldon\",\"This Old House\",\"Simpsons\",\"Big Bang Theory\"]\r\n",
        "shows.sort(reverse=True)\r\n",
        "print(shows)"
      ],
      "execution_count": null,
      "outputs": [
        {
          "output_type": "stream",
          "text": [
            "['Young Sheldon', 'This Old House', 'South Park', 'Simpsons', 'Big Bang Theory']\n"
          ],
          "name": "stdout"
        }
      ]
    },
    {
      "cell_type": "code",
      "metadata": {
        "id": "M17RfxQljvqb",
        "colab": {
          "base_uri": "https://localhost:8080/"
        },
        "outputId": "ca037175-3eb6-4f67-aa8a-56aa31631d56"
      },
      "source": [
        "shows=[\"South Park\",\"Young Sheldon\",\"This Old House\",\"Simpsons\",\"Big Bang Theory\"]\r\n",
        "order=sorted(shows,reverse=True)\r\n",
        "print(order)"
      ],
      "execution_count": null,
      "outputs": [
        {
          "output_type": "stream",
          "text": [
            "['Young Sheldon', 'This Old House', 'South Park', 'Simpsons', 'Big Bang Theory']\n"
          ],
          "name": "stdout"
        }
      ]
    },
    {
      "cell_type": "code",
      "metadata": {
        "id": "4agTp_Cyju4-"
      },
      "source": [
        ""
      ],
      "execution_count": null,
      "outputs": []
    },
    {
      "cell_type": "markdown",
      "metadata": {
        "id": "ZKHwdMnLliFy"
      },
      "source": [
        "## 6.\tCreate a message indicating how many favorite TV shows you have – use the len() function."
      ]
    },
    {
      "cell_type": "code",
      "metadata": {
        "id": "eXUDZfLOllTT",
        "colab": {
          "base_uri": "https://localhost:8080/"
        },
        "outputId": "535bf476-4c2b-49f2-de02-dfaaca3f3759"
      },
      "source": [
        "shows=[\"South Park\",\"Young Sheldon\",\"This Old House\",\"Simpsons\",\"Big Bang Theory\"]\r\n",
        "total=len(shows)\r\n",
        "message=\"I have a total of\"\r\n",
        "message2=\"favorite shows!\"\r\n",
        "print(message, total,message2 )"
      ],
      "execution_count": null,
      "outputs": [
        {
          "output_type": "stream",
          "text": [
            "I have a total of 5 favorite shows!\n"
          ],
          "name": "stdout"
        }
      ]
    },
    {
      "cell_type": "code",
      "metadata": {
        "id": "4oNKGU70llVg"
      },
      "source": [
        ""
      ],
      "execution_count": null,
      "outputs": []
    },
    {
      "cell_type": "code",
      "metadata": {
        "id": "jjh2GdktllZY"
      },
      "source": [
        ""
      ],
      "execution_count": null,
      "outputs": []
    },
    {
      "cell_type": "code",
      "metadata": {
        "id": "iHaRIrt8llcd"
      },
      "source": [
        ""
      ],
      "execution_count": null,
      "outputs": []
    }
  ]
}
