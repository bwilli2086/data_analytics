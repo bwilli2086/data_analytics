{
  "nbformat": 4,
  "nbformat_minor": 0,
  "metadata": {
    "colab": {
      "name": "Untitled0.ipynb",
      "provenance": [],
      "authorship_tag": "ABX9TyO/r+vCaIbc8j5APmuhZ3JK",
      "include_colab_link": true
    },
    "kernelspec": {
      "name": "python3",
      "display_name": "Python 3"
    }
  },
  "cells": [
    {
      "cell_type": "markdown",
      "metadata": {
        "id": "view-in-github",
        "colab_type": "text"
      },
      "source": [
        "<a href=\"https://colab.research.google.com/github/bwilli2086/data_analytics/blob/main/Assignment%201.ipynb\" target=\"_parent\"><img src=\"https://colab.research.google.com/assets/colab-badge.svg\" alt=\"Open In Colab\"/></a>"
      ]
    },
    {
      "cell_type": "code",
      "metadata": {
        "id": "h1jvTCjpHsKC"
      },
      "source": [
        "variableA=\"The Cat\"\r\n",
        "variableB=\"In the Hat\"\r\n",
        "var=\"Knows about that\"\r\n",
        "print(variableA.upper())\r\n",
        "print(variableB.lower())\r\n",
        "print(var)\r\n",
        "print(\"\\nok Jack\")"
      ],
      "execution_count": null,
      "outputs": []
    },
    {
      "cell_type": "code",
      "metadata": {
        "id": "fPJB3iCrSwU2"
      },
      "source": [
        "name=\"John Smith     \"\r\n",
        "name.rstrip()\r\n"
      ],
      "execution_count": null,
      "outputs": []
    },
    {
      "cell_type": "code",
      "metadata": {
        "id": "4Zjvv934T7Sm"
      },
      "source": [
        "name=\"Sam\"\r\n",
        "nametab=\"\\t\" + name\r\n",
        "print(\"Hi\" +\" \" + name + \", \" + \"what are you doing today?\")\r\n",
        "print (name.upper())\r\n",
        "print (name.lower())\r\n",
        "print(nametab.lstrip() +\" \"+\"I am\")"
      ],
      "execution_count": null,
      "outputs": []
    },
    {
      "cell_type": "code",
      "metadata": {
        "colab": {
          "base_uri": "https://localhost:8080/"
        },
        "id": "bBAygaP5YzGq",
        "outputId": "41c5e0f0-3bd1-494b-9e33-0b33298c739a"
      },
      "source": [
        "age = \"27\"\r\n",
        "message= \"Happy\" + \" \" + age + \"th Birthday!\"\r\n",
        "print(message)\r\n",
        "\r\n",
        "age = 28\r\n",
        "message= \"Happy\" + \" \" + str(age) + \"th Birthday!\"\r\n",
        "print(message)\r\n",
        "\r\n"
      ],
      "execution_count": 42,
      "outputs": [
        {
          "output_type": "stream",
          "text": [
            "Happy 27th Birthday!\n",
            "Happy 28th Birthday!\n"
          ],
          "name": "stdout"
        }
      ]
    },
    {
      "cell_type": "code",
      "metadata": {
        "id": "q2nrT37iapLc"
      },
      "source": [
        ""
      ],
      "execution_count": null,
      "outputs": []
    }
  ]
}
